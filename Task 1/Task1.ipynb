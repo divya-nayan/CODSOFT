{
 "cells": [
  {
   "cell_type": "markdown",
   "id": "3fc09305",
   "metadata": {},
   "source": [
    "# 1. Importing Required Packages and Libraries"
   ]
  },
  {
   "cell_type": "code",
   "execution_count": 1,
   "id": "a5c8811d",
   "metadata": {},
   "outputs": [],
   "source": [
    "import warnings\n",
    "warnings.filterwarnings('ignore')"
   ]
  },
  {
   "cell_type": "code",
   "execution_count": 3,
   "id": "62e09bf1",
   "metadata": {},
   "outputs": [],
   "source": [
    "import numpy as np\n",
    "import pandas as pd\n",
    "import matplotlib.pyplot as plt\n",
    "%matplotlib inline\n",
    "import seaborn as sns\n",
    "from sklearn.model_selection import train_test_split\n",
    "from sklearn.linear_model import LogisticRegression, Perceptron\n",
    "from sklearn.preprocessing import MinMaxScaler, OneHotEncoder, OrdinalEncoder\n",
    "from sklearn.tree import DecisionTreeClassifier\n",
    "from sklearn.ensemble import RandomForestClassifier\n",
    "from sklearn.neighbors import KNeighborsClassifier\n",
    "from sklearn.compose import ColumnTransformer\n",
    "from sklearn.metrics import accuracy_score, f1_score, precision_score, confusion_matrix"
   ]
  },
  {
   "cell_type": "markdown",
   "id": "d0ec622d",
   "metadata": {},
   "source": [
    "# 2. Importing and Reading Datasets"
   ]
  },
  {
   "cell_type": "code",
   "execution_count": 4,
   "id": "60980f9f",
   "metadata": {},
   "outputs": [],
   "source": [
    "df = pd.read_csv('tested.csv')"
   ]
  },
  {
   "cell_type": "code",
   "execution_count": 5,
   "id": "1fed3d58",
   "metadata": {},
   "outputs": [],
   "source": [
    "copy = df.copy()"
   ]
  },
  {
   "cell_type": "code",
   "execution_count": 6,
   "id": "74eef765",
   "metadata": {},
   "outputs": [
    {
     "name": "stdout",
     "output_type": "stream",
     "text": [
      "<class 'pandas.core.frame.DataFrame'>\n",
      "RangeIndex: 418 entries, 0 to 417\n",
      "Data columns (total 12 columns):\n",
      " #   Column       Non-Null Count  Dtype  \n",
      "---  ------       --------------  -----  \n",
      " 0   PassengerId  418 non-null    int64  \n",
      " 1   Survived     418 non-null    int64  \n",
      " 2   Pclass       418 non-null    int64  \n",
      " 3   Name         418 non-null    object \n",
      " 4   Sex          418 non-null    object \n",
      " 5   Age          332 non-null    float64\n",
      " 6   SibSp        418 non-null    int64  \n",
      " 7   Parch        418 non-null    int64  \n",
      " 8   Ticket       418 non-null    object \n",
      " 9   Fare         417 non-null    float64\n",
      " 10  Cabin        91 non-null     object \n",
      " 11  Embarked     418 non-null    object \n",
      "dtypes: float64(2), int64(5), object(5)\n",
      "memory usage: 39.3+ KB\n"
     ]
    }
   ],
   "source": [
    "df.info()"
   ]
  },
  {
   "cell_type": "code",
   "execution_count": 7,
   "id": "04094238",
   "metadata": {},
   "outputs": [
    {
     "data": {
      "text/html": [
       "<div>\n",
       "<style scoped>\n",
       "    .dataframe tbody tr th:only-of-type {\n",
       "        vertical-align: middle;\n",
       "    }\n",
       "\n",
       "    .dataframe tbody tr th {\n",
       "        vertical-align: top;\n",
       "    }\n",
       "\n",
       "    .dataframe thead th {\n",
       "        text-align: right;\n",
       "    }\n",
       "</style>\n",
       "<table border=\"1\" class=\"dataframe\">\n",
       "  <thead>\n",
       "    <tr style=\"text-align: right;\">\n",
       "      <th></th>\n",
       "      <th>PassengerId</th>\n",
       "      <th>Survived</th>\n",
       "      <th>Pclass</th>\n",
       "      <th>Name</th>\n",
       "      <th>Sex</th>\n",
       "      <th>Age</th>\n",
       "      <th>SibSp</th>\n",
       "      <th>Parch</th>\n",
       "      <th>Ticket</th>\n",
       "      <th>Fare</th>\n",
       "      <th>Cabin</th>\n",
       "      <th>Embarked</th>\n",
       "    </tr>\n",
       "  </thead>\n",
       "  <tbody>\n",
       "    <tr>\n",
       "      <th>0</th>\n",
       "      <td>892</td>\n",
       "      <td>0</td>\n",
       "      <td>3</td>\n",
       "      <td>Kelly, Mr. James</td>\n",
       "      <td>male</td>\n",
       "      <td>34.5</td>\n",
       "      <td>0</td>\n",
       "      <td>0</td>\n",
       "      <td>330911</td>\n",
       "      <td>7.8292</td>\n",
       "      <td>NaN</td>\n",
       "      <td>Q</td>\n",
       "    </tr>\n",
       "    <tr>\n",
       "      <th>1</th>\n",
       "      <td>893</td>\n",
       "      <td>1</td>\n",
       "      <td>3</td>\n",
       "      <td>Wilkes, Mrs. James (Ellen Needs)</td>\n",
       "      <td>female</td>\n",
       "      <td>47.0</td>\n",
       "      <td>1</td>\n",
       "      <td>0</td>\n",
       "      <td>363272</td>\n",
       "      <td>7.0000</td>\n",
       "      <td>NaN</td>\n",
       "      <td>S</td>\n",
       "    </tr>\n",
       "    <tr>\n",
       "      <th>2</th>\n",
       "      <td>894</td>\n",
       "      <td>0</td>\n",
       "      <td>2</td>\n",
       "      <td>Myles, Mr. Thomas Francis</td>\n",
       "      <td>male</td>\n",
       "      <td>62.0</td>\n",
       "      <td>0</td>\n",
       "      <td>0</td>\n",
       "      <td>240276</td>\n",
       "      <td>9.6875</td>\n",
       "      <td>NaN</td>\n",
       "      <td>Q</td>\n",
       "    </tr>\n",
       "    <tr>\n",
       "      <th>3</th>\n",
       "      <td>895</td>\n",
       "      <td>0</td>\n",
       "      <td>3</td>\n",
       "      <td>Wirz, Mr. Albert</td>\n",
       "      <td>male</td>\n",
       "      <td>27.0</td>\n",
       "      <td>0</td>\n",
       "      <td>0</td>\n",
       "      <td>315154</td>\n",
       "      <td>8.6625</td>\n",
       "      <td>NaN</td>\n",
       "      <td>S</td>\n",
       "    </tr>\n",
       "    <tr>\n",
       "      <th>4</th>\n",
       "      <td>896</td>\n",
       "      <td>1</td>\n",
       "      <td>3</td>\n",
       "      <td>Hirvonen, Mrs. Alexander (Helga E Lindqvist)</td>\n",
       "      <td>female</td>\n",
       "      <td>22.0</td>\n",
       "      <td>1</td>\n",
       "      <td>1</td>\n",
       "      <td>3101298</td>\n",
       "      <td>12.2875</td>\n",
       "      <td>NaN</td>\n",
       "      <td>S</td>\n",
       "    </tr>\n",
       "  </tbody>\n",
       "</table>\n",
       "</div>"
      ],
      "text/plain": [
       "   PassengerId  Survived  Pclass  \\\n",
       "0          892         0       3   \n",
       "1          893         1       3   \n",
       "2          894         0       2   \n",
       "3          895         0       3   \n",
       "4          896         1       3   \n",
       "\n",
       "                                           Name     Sex   Age  SibSp  Parch  \\\n",
       "0                              Kelly, Mr. James    male  34.5      0      0   \n",
       "1              Wilkes, Mrs. James (Ellen Needs)  female  47.0      1      0   \n",
       "2                     Myles, Mr. Thomas Francis    male  62.0      0      0   \n",
       "3                              Wirz, Mr. Albert    male  27.0      0      0   \n",
       "4  Hirvonen, Mrs. Alexander (Helga E Lindqvist)  female  22.0      1      1   \n",
       "\n",
       "    Ticket     Fare Cabin Embarked  \n",
       "0   330911   7.8292   NaN        Q  \n",
       "1   363272   7.0000   NaN        S  \n",
       "2   240276   9.6875   NaN        Q  \n",
       "3   315154   8.6625   NaN        S  \n",
       "4  3101298  12.2875   NaN        S  "
      ]
     },
     "execution_count": 7,
     "metadata": {},
     "output_type": "execute_result"
    }
   ],
   "source": [
    "df.head()"
   ]
  },
  {
   "cell_type": "markdown",
   "id": "bf70272e",
   "metadata": {},
   "source": [
    "# 3. EDA"
   ]
  },
  {
   "cell_type": "code",
   "execution_count": 8,
   "id": "f6ff6b1c",
   "metadata": {},
   "outputs": [],
   "source": [
    "df.drop(columns=['Name', 'PassengerId', 'Cabin'], axis = 1, inplace = True)"
   ]
  },
  {
   "cell_type": "code",
   "execution_count": 9,
   "id": "10eb556d",
   "metadata": {},
   "outputs": [
    {
     "data": {
      "text/html": [
       "<div>\n",
       "<style scoped>\n",
       "    .dataframe tbody tr th:only-of-type {\n",
       "        vertical-align: middle;\n",
       "    }\n",
       "\n",
       "    .dataframe tbody tr th {\n",
       "        vertical-align: top;\n",
       "    }\n",
       "\n",
       "    .dataframe thead th {\n",
       "        text-align: right;\n",
       "    }\n",
       "</style>\n",
       "<table border=\"1\" class=\"dataframe\">\n",
       "  <thead>\n",
       "    <tr style=\"text-align: right;\">\n",
       "      <th></th>\n",
       "      <th>Survived</th>\n",
       "      <th>Pclass</th>\n",
       "      <th>Sex</th>\n",
       "      <th>Age</th>\n",
       "      <th>SibSp</th>\n",
       "      <th>Parch</th>\n",
       "      <th>Ticket</th>\n",
       "      <th>Fare</th>\n",
       "      <th>Embarked</th>\n",
       "    </tr>\n",
       "  </thead>\n",
       "  <tbody>\n",
       "    <tr>\n",
       "      <th>0</th>\n",
       "      <td>0</td>\n",
       "      <td>3</td>\n",
       "      <td>male</td>\n",
       "      <td>34.5</td>\n",
       "      <td>0</td>\n",
       "      <td>0</td>\n",
       "      <td>330911</td>\n",
       "      <td>7.8292</td>\n",
       "      <td>Q</td>\n",
       "    </tr>\n",
       "    <tr>\n",
       "      <th>1</th>\n",
       "      <td>1</td>\n",
       "      <td>3</td>\n",
       "      <td>female</td>\n",
       "      <td>47.0</td>\n",
       "      <td>1</td>\n",
       "      <td>0</td>\n",
       "      <td>363272</td>\n",
       "      <td>7.0000</td>\n",
       "      <td>S</td>\n",
       "    </tr>\n",
       "    <tr>\n",
       "      <th>2</th>\n",
       "      <td>0</td>\n",
       "      <td>2</td>\n",
       "      <td>male</td>\n",
       "      <td>62.0</td>\n",
       "      <td>0</td>\n",
       "      <td>0</td>\n",
       "      <td>240276</td>\n",
       "      <td>9.6875</td>\n",
       "      <td>Q</td>\n",
       "    </tr>\n",
       "    <tr>\n",
       "      <th>3</th>\n",
       "      <td>0</td>\n",
       "      <td>3</td>\n",
       "      <td>male</td>\n",
       "      <td>27.0</td>\n",
       "      <td>0</td>\n",
       "      <td>0</td>\n",
       "      <td>315154</td>\n",
       "      <td>8.6625</td>\n",
       "      <td>S</td>\n",
       "    </tr>\n",
       "    <tr>\n",
       "      <th>4</th>\n",
       "      <td>1</td>\n",
       "      <td>3</td>\n",
       "      <td>female</td>\n",
       "      <td>22.0</td>\n",
       "      <td>1</td>\n",
       "      <td>1</td>\n",
       "      <td>3101298</td>\n",
       "      <td>12.2875</td>\n",
       "      <td>S</td>\n",
       "    </tr>\n",
       "  </tbody>\n",
       "</table>\n",
       "</div>"
      ],
      "text/plain": [
       "   Survived  Pclass     Sex   Age  SibSp  Parch   Ticket     Fare Embarked\n",
       "0         0       3    male  34.5      0      0   330911   7.8292        Q\n",
       "1         1       3  female  47.0      1      0   363272   7.0000        S\n",
       "2         0       2    male  62.0      0      0   240276   9.6875        Q\n",
       "3         0       3    male  27.0      0      0   315154   8.6625        S\n",
       "4         1       3  female  22.0      1      1  3101298  12.2875        S"
      ]
     },
     "execution_count": 9,
     "metadata": {},
     "output_type": "execute_result"
    }
   ],
   "source": [
    "df.head()"
   ]
  },
  {
   "cell_type": "code",
   "execution_count": 10,
   "id": "1a7e111f",
   "metadata": {},
   "outputs": [],
   "source": [
    "df.drop(columns=['Ticket'], axis = 1, inplace = True)"
   ]
  },
  {
   "cell_type": "code",
   "execution_count": 11,
   "id": "b3c0f0b3",
   "metadata": {},
   "outputs": [
    {
     "data": {
      "text/html": [
       "<div>\n",
       "<style scoped>\n",
       "    .dataframe tbody tr th:only-of-type {\n",
       "        vertical-align: middle;\n",
       "    }\n",
       "\n",
       "    .dataframe tbody tr th {\n",
       "        vertical-align: top;\n",
       "    }\n",
       "\n",
       "    .dataframe thead th {\n",
       "        text-align: right;\n",
       "    }\n",
       "</style>\n",
       "<table border=\"1\" class=\"dataframe\">\n",
       "  <thead>\n",
       "    <tr style=\"text-align: right;\">\n",
       "      <th></th>\n",
       "      <th>Survived</th>\n",
       "      <th>Pclass</th>\n",
       "      <th>Sex</th>\n",
       "      <th>Age</th>\n",
       "      <th>SibSp</th>\n",
       "      <th>Parch</th>\n",
       "      <th>Fare</th>\n",
       "      <th>Embarked</th>\n",
       "    </tr>\n",
       "  </thead>\n",
       "  <tbody>\n",
       "    <tr>\n",
       "      <th>0</th>\n",
       "      <td>0</td>\n",
       "      <td>3</td>\n",
       "      <td>male</td>\n",
       "      <td>34.5</td>\n",
       "      <td>0</td>\n",
       "      <td>0</td>\n",
       "      <td>7.8292</td>\n",
       "      <td>Q</td>\n",
       "    </tr>\n",
       "    <tr>\n",
       "      <th>1</th>\n",
       "      <td>1</td>\n",
       "      <td>3</td>\n",
       "      <td>female</td>\n",
       "      <td>47.0</td>\n",
       "      <td>1</td>\n",
       "      <td>0</td>\n",
       "      <td>7.0000</td>\n",
       "      <td>S</td>\n",
       "    </tr>\n",
       "    <tr>\n",
       "      <th>2</th>\n",
       "      <td>0</td>\n",
       "      <td>2</td>\n",
       "      <td>male</td>\n",
       "      <td>62.0</td>\n",
       "      <td>0</td>\n",
       "      <td>0</td>\n",
       "      <td>9.6875</td>\n",
       "      <td>Q</td>\n",
       "    </tr>\n",
       "    <tr>\n",
       "      <th>3</th>\n",
       "      <td>0</td>\n",
       "      <td>3</td>\n",
       "      <td>male</td>\n",
       "      <td>27.0</td>\n",
       "      <td>0</td>\n",
       "      <td>0</td>\n",
       "      <td>8.6625</td>\n",
       "      <td>S</td>\n",
       "    </tr>\n",
       "    <tr>\n",
       "      <th>4</th>\n",
       "      <td>1</td>\n",
       "      <td>3</td>\n",
       "      <td>female</td>\n",
       "      <td>22.0</td>\n",
       "      <td>1</td>\n",
       "      <td>1</td>\n",
       "      <td>12.2875</td>\n",
       "      <td>S</td>\n",
       "    </tr>\n",
       "  </tbody>\n",
       "</table>\n",
       "</div>"
      ],
      "text/plain": [
       "   Survived  Pclass     Sex   Age  SibSp  Parch     Fare Embarked\n",
       "0         0       3    male  34.5      0      0   7.8292        Q\n",
       "1         1       3  female  47.0      1      0   7.0000        S\n",
       "2         0       2    male  62.0      0      0   9.6875        Q\n",
       "3         0       3    male  27.0      0      0   8.6625        S\n",
       "4         1       3  female  22.0      1      1  12.2875        S"
      ]
     },
     "execution_count": 11,
     "metadata": {},
     "output_type": "execute_result"
    }
   ],
   "source": [
    "df.head()"
   ]
  },
  {
   "cell_type": "code",
   "execution_count": 12,
   "id": "42fc4a4a",
   "metadata": {},
   "outputs": [],
   "source": [
    "df['Family'] = df['SibSp'] + df['Parch'] + 1"
   ]
  },
  {
   "cell_type": "code",
   "execution_count": 13,
   "id": "66d13dd8",
   "metadata": {},
   "outputs": [
    {
     "data": {
      "text/html": [
       "<div>\n",
       "<style scoped>\n",
       "    .dataframe tbody tr th:only-of-type {\n",
       "        vertical-align: middle;\n",
       "    }\n",
       "\n",
       "    .dataframe tbody tr th {\n",
       "        vertical-align: top;\n",
       "    }\n",
       "\n",
       "    .dataframe thead th {\n",
       "        text-align: right;\n",
       "    }\n",
       "</style>\n",
       "<table border=\"1\" class=\"dataframe\">\n",
       "  <thead>\n",
       "    <tr style=\"text-align: right;\">\n",
       "      <th></th>\n",
       "      <th>Survived</th>\n",
       "      <th>Pclass</th>\n",
       "      <th>Sex</th>\n",
       "      <th>Age</th>\n",
       "      <th>SibSp</th>\n",
       "      <th>Parch</th>\n",
       "      <th>Fare</th>\n",
       "      <th>Embarked</th>\n",
       "      <th>Family</th>\n",
       "    </tr>\n",
       "  </thead>\n",
       "  <tbody>\n",
       "    <tr>\n",
       "      <th>0</th>\n",
       "      <td>0</td>\n",
       "      <td>3</td>\n",
       "      <td>male</td>\n",
       "      <td>34.5</td>\n",
       "      <td>0</td>\n",
       "      <td>0</td>\n",
       "      <td>7.8292</td>\n",
       "      <td>Q</td>\n",
       "      <td>1</td>\n",
       "    </tr>\n",
       "    <tr>\n",
       "      <th>1</th>\n",
       "      <td>1</td>\n",
       "      <td>3</td>\n",
       "      <td>female</td>\n",
       "      <td>47.0</td>\n",
       "      <td>1</td>\n",
       "      <td>0</td>\n",
       "      <td>7.0000</td>\n",
       "      <td>S</td>\n",
       "      <td>2</td>\n",
       "    </tr>\n",
       "    <tr>\n",
       "      <th>2</th>\n",
       "      <td>0</td>\n",
       "      <td>2</td>\n",
       "      <td>male</td>\n",
       "      <td>62.0</td>\n",
       "      <td>0</td>\n",
       "      <td>0</td>\n",
       "      <td>9.6875</td>\n",
       "      <td>Q</td>\n",
       "      <td>1</td>\n",
       "    </tr>\n",
       "    <tr>\n",
       "      <th>3</th>\n",
       "      <td>0</td>\n",
       "      <td>3</td>\n",
       "      <td>male</td>\n",
       "      <td>27.0</td>\n",
       "      <td>0</td>\n",
       "      <td>0</td>\n",
       "      <td>8.6625</td>\n",
       "      <td>S</td>\n",
       "      <td>1</td>\n",
       "    </tr>\n",
       "    <tr>\n",
       "      <th>4</th>\n",
       "      <td>1</td>\n",
       "      <td>3</td>\n",
       "      <td>female</td>\n",
       "      <td>22.0</td>\n",
       "      <td>1</td>\n",
       "      <td>1</td>\n",
       "      <td>12.2875</td>\n",
       "      <td>S</td>\n",
       "      <td>3</td>\n",
       "    </tr>\n",
       "  </tbody>\n",
       "</table>\n",
       "</div>"
      ],
      "text/plain": [
       "   Survived  Pclass     Sex   Age  SibSp  Parch     Fare Embarked  Family\n",
       "0         0       3    male  34.5      0      0   7.8292        Q       1\n",
       "1         1       3  female  47.0      1      0   7.0000        S       2\n",
       "2         0       2    male  62.0      0      0   9.6875        Q       1\n",
       "3         0       3    male  27.0      0      0   8.6625        S       1\n",
       "4         1       3  female  22.0      1      1  12.2875        S       3"
      ]
     },
     "execution_count": 13,
     "metadata": {},
     "output_type": "execute_result"
    }
   ],
   "source": [
    "df.head()"
   ]
  },
  {
   "cell_type": "code",
   "execution_count": 14,
   "id": "4ff65d94",
   "metadata": {},
   "outputs": [],
   "source": [
    "df.drop(columns=['SibSp', 'Parch'], axis = 1, inplace = True)"
   ]
  },
  {
   "cell_type": "code",
   "execution_count": 33,
   "id": "898a81d4",
   "metadata": {},
   "outputs": [
    {
     "data": {
      "text/html": [
       "<div>\n",
       "<style scoped>\n",
       "    .dataframe tbody tr th:only-of-type {\n",
       "        vertical-align: middle;\n",
       "    }\n",
       "\n",
       "    .dataframe tbody tr th {\n",
       "        vertical-align: top;\n",
       "    }\n",
       "\n",
       "    .dataframe thead th {\n",
       "        text-align: right;\n",
       "    }\n",
       "</style>\n",
       "<table border=\"1\" class=\"dataframe\">\n",
       "  <thead>\n",
       "    <tr style=\"text-align: right;\">\n",
       "      <th></th>\n",
       "      <th>Survived</th>\n",
       "      <th>Pclass</th>\n",
       "      <th>Sex</th>\n",
       "      <th>Age</th>\n",
       "      <th>Fare</th>\n",
       "      <th>Embarked</th>\n",
       "      <th>Family</th>\n",
       "    </tr>\n",
       "  </thead>\n",
       "  <tbody>\n",
       "    <tr>\n",
       "      <th>0</th>\n",
       "      <td>0</td>\n",
       "      <td>3</td>\n",
       "      <td>male</td>\n",
       "      <td>34.5</td>\n",
       "      <td>7.8292</td>\n",
       "      <td>Q</td>\n",
       "      <td>1</td>\n",
       "    </tr>\n",
       "    <tr>\n",
       "      <th>1</th>\n",
       "      <td>1</td>\n",
       "      <td>3</td>\n",
       "      <td>female</td>\n",
       "      <td>47.0</td>\n",
       "      <td>7.0000</td>\n",
       "      <td>S</td>\n",
       "      <td>2</td>\n",
       "    </tr>\n",
       "    <tr>\n",
       "      <th>2</th>\n",
       "      <td>0</td>\n",
       "      <td>2</td>\n",
       "      <td>male</td>\n",
       "      <td>62.0</td>\n",
       "      <td>9.6875</td>\n",
       "      <td>Q</td>\n",
       "      <td>1</td>\n",
       "    </tr>\n",
       "    <tr>\n",
       "      <th>3</th>\n",
       "      <td>0</td>\n",
       "      <td>3</td>\n",
       "      <td>male</td>\n",
       "      <td>27.0</td>\n",
       "      <td>8.6625</td>\n",
       "      <td>S</td>\n",
       "      <td>1</td>\n",
       "    </tr>\n",
       "    <tr>\n",
       "      <th>4</th>\n",
       "      <td>1</td>\n",
       "      <td>3</td>\n",
       "      <td>female</td>\n",
       "      <td>22.0</td>\n",
       "      <td>12.2875</td>\n",
       "      <td>S</td>\n",
       "      <td>3</td>\n",
       "    </tr>\n",
       "  </tbody>\n",
       "</table>\n",
       "</div>"
      ],
      "text/plain": [
       "   Survived  Pclass     Sex   Age     Fare Embarked  Family\n",
       "0         0       3    male  34.5   7.8292        Q       1\n",
       "1         1       3  female  47.0   7.0000        S       2\n",
       "2         0       2    male  62.0   9.6875        Q       1\n",
       "3         0       3    male  27.0   8.6625        S       1\n",
       "4         1       3  female  22.0  12.2875        S       3"
      ]
     },
     "execution_count": 33,
     "metadata": {},
     "output_type": "execute_result"
    }
   ],
   "source": [
    "df.head()"
   ]
  },
  {
   "cell_type": "code",
   "execution_count": 15,
   "id": "d1452a1b",
   "metadata": {},
   "outputs": [
    {
     "data": {
      "text/plain": [
       "Survived     0\n",
       "Pclass       0\n",
       "Sex          0\n",
       "Age         86\n",
       "Fare         1\n",
       "Embarked     0\n",
       "Family       0\n",
       "dtype: int64"
      ]
     },
     "execution_count": 15,
     "metadata": {},
     "output_type": "execute_result"
    }
   ],
   "source": [
    "df.isna().sum()"
   ]
  },
  {
   "cell_type": "code",
   "execution_count": 16,
   "id": "e7275b38",
   "metadata": {},
   "outputs": [
    {
     "data": {
      "text/plain": [
       "0"
      ]
     },
     "execution_count": 16,
     "metadata": {},
     "output_type": "execute_result"
    }
   ],
   "source": [
    "copy.duplicated().sum()"
   ]
  },
  {
   "cell_type": "code",
   "execution_count": 17,
   "id": "e9d97263",
   "metadata": {},
   "outputs": [],
   "source": [
    "df['Age'].fillna(df['Age'].mean(), inplace = True)"
   ]
  },
  {
   "cell_type": "code",
   "execution_count": 18,
   "id": "daa2bbfc",
   "metadata": {},
   "outputs": [
    {
     "data": {
      "text/plain": [
       "Survived    0\n",
       "Pclass      0\n",
       "Sex         0\n",
       "Age         0\n",
       "Fare        1\n",
       "Embarked    0\n",
       "Family      0\n",
       "dtype: int64"
      ]
     },
     "execution_count": 18,
     "metadata": {},
     "output_type": "execute_result"
    }
   ],
   "source": [
    "df.isna().sum()"
   ]
  },
  {
   "cell_type": "code",
   "execution_count": 19,
   "id": "15c5ec53",
   "metadata": {},
   "outputs": [],
   "source": [
    "df['Fare'].fillna(df['Fare'].mean(), inplace = True)"
   ]
  },
  {
   "cell_type": "code",
   "execution_count": 20,
   "id": "4aca28fb",
   "metadata": {},
   "outputs": [
    {
     "data": {
      "text/plain": [
       "Survived    0\n",
       "Pclass      0\n",
       "Sex         0\n",
       "Age         0\n",
       "Fare        0\n",
       "Embarked    0\n",
       "Family      0\n",
       "dtype: int64"
      ]
     },
     "execution_count": 20,
     "metadata": {},
     "output_type": "execute_result"
    }
   ],
   "source": [
    "df.isna().sum()"
   ]
  },
  {
   "cell_type": "code",
   "execution_count": 21,
   "id": "83ee5230",
   "metadata": {},
   "outputs": [
    {
     "name": "stdout",
     "output_type": "stream",
     "text": [
      "3    218\n",
      "1    107\n",
      "2     93\n",
      "Name: Pclass, dtype: int64\n",
      "**************************************************\n",
      "male      266\n",
      "female    152\n",
      "Name: Sex, dtype: int64\n",
      "**************************************************\n",
      "S    270\n",
      "C    102\n",
      "Q     46\n",
      "Name: Embarked, dtype: int64\n",
      "**************************************************\n",
      "1     253\n",
      "2      74\n",
      "3      57\n",
      "4      14\n",
      "5       7\n",
      "7       4\n",
      "11      4\n",
      "6       3\n",
      "8       2\n",
      "Name: Family, dtype: int64\n",
      "**************************************************\n"
     ]
    }
   ],
   "source": [
    "tab = ['Pclass', 'Sex', 'Embarked', 'Family']\n",
    "for  val in tab:\n",
    "    print(df[val].value_counts())\n",
    "    print('*' * 50)"
   ]
  },
  {
   "cell_type": "markdown",
   "id": "ae98058c",
   "metadata": {},
   "source": [
    "# 4. Some Visuals"
   ]
  },
  {
   "cell_type": "code",
   "execution_count": 22,
   "id": "30802e08",
   "metadata": {},
   "outputs": [
    {
     "data": {
      "text/plain": [
       "<Axes: xlabel='Sex', ylabel='Age'>"
      ]
     },
     "execution_count": 22,
     "metadata": {},
     "output_type": "execute_result"
    },
    {
     "data": {
      "image/png": "[encoded data removed]",
      "text/plain": [
       "<Figure size 640x480 with 1 Axes>"
      ]
     },
     "metadata": {},
     "output_type": "display_data"
    }
   ],
   "source": [
    "sns.boxplot(data = df, x = 'Sex', y = 'Age', hue='Survived' )"
   ]
  },
  {
   "cell_type": "code",
   "execution_count": 23,
   "id": "0ddf0819",
   "metadata": {},
   "outputs": [
    {
     "data": {
      "text/plain": [
       "<Axes: xlabel='Embarked', ylabel='count'>"
      ]
     },
     "execution_count": 23,
     "metadata": {},
     "output_type": "execute_result"
    },
    {
     "data": {
      "image/png": "[encoded data removed]",
      "text/plain": [
       "<Figure size 640x480 with 1 Axes>"
      ]
     },
     "metadata": {},
     "output_type": "display_data"
    }
   ],
   "source": [
    "sns.countplot(x = df['Embarked'], hue=df['Survived'])"
   ]
  },
  {
   "cell_type": "code",
   "execution_count": 24,
   "id": "58f1aee0",
   "metadata": {},
   "outputs": [
    {
     "data": {
      "text/plain": [
       "<Axes: ylabel='Survived'>"
      ]
     },
     "execution_count": 24,
     "metadata": {},
     "output_type": "execute_result"
    },
    {
     "data": {
      "image/png": "[encoded data removed]",
      "text/plain": [
       "<Figure size 640x480 with 1 Axes>"
      ]
     },
     "metadata": {},
     "output_type": "display_data"
    }
   ],
   "source": [
    "df.groupby('Pclass').sum().plot(kind = 'pie', y = 'Survived', autopct='%1.0f%%')"
   ]
  },
  {
   "cell_type": "code",
   "execution_count": 25,
   "id": "5f37d408",
   "metadata": {},
   "outputs": [
    {
     "data": {
      "text/plain": [
       "Survived    0\n",
       "Pclass      0\n",
       "Sex         0\n",
       "Age         0\n",
       "Fare        0\n",
       "Embarked    0\n",
       "Family      0\n",
       "dtype: int64"
      ]
     },
     "execution_count": 25,
     "metadata": {},
     "output_type": "execute_result"
    }
   ],
   "source": [
    "df.isna().sum()"
   ]
  },
  {
   "cell_type": "code",
   "execution_count": 26,
   "id": "428c8cf8",
   "metadata": {},
   "outputs": [
    {
     "name": "stdout",
     "output_type": "stream",
     "text": [
      "<class 'pandas.core.frame.DataFrame'>\n",
      "RangeIndex: 418 entries, 0 to 417\n",
      "Data columns (total 7 columns):\n",
      " #   Column    Non-Null Count  Dtype  \n",
      "---  ------    --------------  -----  \n",
      " 0   Survived  418 non-null    int64  \n",
      " 1   Pclass    418 non-null    int64  \n",
      " 2   Sex       418 non-null    object \n",
      " 3   Age       418 non-null    float64\n",
      " 4   Fare      418 non-null    float64\n",
      " 5   Embarked  418 non-null    object \n",
      " 6   Family    418 non-null    int64  \n",
      "dtypes: float64(2), int64(3), object(2)\n",
      "memory usage: 23.0+ KB\n"
     ]
    }
   ],
   "source": [
    "df.info()"
   ]
  },
  {
   "cell_type": "code",
   "execution_count": 27,
   "id": "ab722e02",
   "metadata": {},
   "outputs": [],
   "source": [
    "df.drop(columns=['Fare'], axis = 1, inplace = True)"
   ]
  },
  {
   "cell_type": "code",
   "execution_count": 28,
   "id": "d882421b",
   "metadata": {},
   "outputs": [
    {
     "data": {
      "text/html": [
       "<div>\n",
       "<style scoped>\n",
       "    .dataframe tbody tr th:only-of-type {\n",
       "        vertical-align: middle;\n",
       "    }\n",
       "\n",
       "    .dataframe tbody tr th {\n",
       "        vertical-align: top;\n",
       "    }\n",
       "\n",
       "    .dataframe thead th {\n",
       "        text-align: right;\n",
       "    }\n",
       "</style>\n",
       "<table border=\"1\" class=\"dataframe\">\n",
       "  <thead>\n",
       "    <tr style=\"text-align: right;\">\n",
       "      <th></th>\n",
       "      <th>Survived</th>\n",
       "      <th>Pclass</th>\n",
       "      <th>Sex</th>\n",
       "      <th>Age</th>\n",
       "      <th>Embarked</th>\n",
       "      <th>Family</th>\n",
       "    </tr>\n",
       "  </thead>\n",
       "  <tbody>\n",
       "    <tr>\n",
       "      <th>0</th>\n",
       "      <td>0</td>\n",
       "      <td>3</td>\n",
       "      <td>male</td>\n",
       "      <td>34.5</td>\n",
       "      <td>Q</td>\n",
       "      <td>1</td>\n",
       "    </tr>\n",
       "    <tr>\n",
       "      <th>1</th>\n",
       "      <td>1</td>\n",
       "      <td>3</td>\n",
       "      <td>female</td>\n",
       "      <td>47.0</td>\n",
       "      <td>S</td>\n",
       "      <td>2</td>\n",
       "    </tr>\n",
       "    <tr>\n",
       "      <th>2</th>\n",
       "      <td>0</td>\n",
       "      <td>2</td>\n",
       "      <td>male</td>\n",
       "      <td>62.0</td>\n",
       "      <td>Q</td>\n",
       "      <td>1</td>\n",
       "    </tr>\n",
       "    <tr>\n",
       "      <th>3</th>\n",
       "      <td>0</td>\n",
       "      <td>3</td>\n",
       "      <td>male</td>\n",
       "      <td>27.0</td>\n",
       "      <td>S</td>\n",
       "      <td>1</td>\n",
       "    </tr>\n",
       "    <tr>\n",
       "      <th>4</th>\n",
       "      <td>1</td>\n",
       "      <td>3</td>\n",
       "      <td>female</td>\n",
       "      <td>22.0</td>\n",
       "      <td>S</td>\n",
       "      <td>3</td>\n",
       "    </tr>\n",
       "  </tbody>\n",
       "</table>\n",
       "</div>"
      ],
      "text/plain": [
       "   Survived  Pclass     Sex   Age Embarked  Family\n",
       "0         0       3    male  34.5        Q       1\n",
       "1         1       3  female  47.0        S       2\n",
       "2         0       2    male  62.0        Q       1\n",
       "3         0       3    male  27.0        S       1\n",
       "4         1       3  female  22.0        S       3"
      ]
     },
     "execution_count": 28,
     "metadata": {},
     "output_type": "execute_result"
    }
   ],
   "source": [
    "df.head()"
   ]
  },
  {
   "cell_type": "markdown",
   "id": "7a54370f",
   "metadata": {},
   "source": [
    "# 5. Feature Engineering"
   ]
  },
  {
   "cell_type": "code",
   "execution_count": 29,
   "id": "4785e1fa",
   "metadata": {},
   "outputs": [],
   "source": [
    "x = df.drop(columns=['Survived'])\n",
    "y = df['Survived']"
   ]
  },
  {
   "cell_type": "code",
   "execution_count": 30,
   "id": "82454004",
   "metadata": {},
   "outputs": [
    {
     "data": {
      "text/html": [
       "<div>\n",
       "<style scoped>\n",
       "    .dataframe tbody tr th:only-of-type {\n",
       "        vertical-align: middle;\n",
       "    }\n",
       "\n",
       "    .dataframe tbody tr th {\n",
       "        vertical-align: top;\n",
       "    }\n",
       "\n",
       "    .dataframe thead th {\n",
       "        text-align: right;\n",
       "    }\n",
       "</style>\n",
       "<table border=\"1\" class=\"dataframe\">\n",
       "  <thead>\n",
       "    <tr style=\"text-align: right;\">\n",
       "      <th></th>\n",
       "      <th>Pclass</th>\n",
       "      <th>Sex</th>\n",
       "      <th>Age</th>\n",
       "      <th>Embarked</th>\n",
       "      <th>Family</th>\n",
       "    </tr>\n",
       "  </thead>\n",
       "  <tbody>\n",
       "    <tr>\n",
       "      <th>0</th>\n",
       "      <td>3</td>\n",
       "      <td>male</td>\n",
       "      <td>34.50000</td>\n",
       "      <td>Q</td>\n",
       "      <td>1</td>\n",
       "    </tr>\n",
       "    <tr>\n",
       "      <th>1</th>\n",
       "      <td>3</td>\n",
       "      <td>female</td>\n",
       "      <td>47.00000</td>\n",
       "      <td>S</td>\n",
       "      <td>2</td>\n",
       "    </tr>\n",
       "    <tr>\n",
       "      <th>2</th>\n",
       "      <td>2</td>\n",
       "      <td>male</td>\n",
       "      <td>62.00000</td>\n",
       "      <td>Q</td>\n",
       "      <td>1</td>\n",
       "    </tr>\n",
       "    <tr>\n",
       "      <th>3</th>\n",
       "      <td>3</td>\n",
       "      <td>male</td>\n",
       "      <td>27.00000</td>\n",
       "      <td>S</td>\n",
       "      <td>1</td>\n",
       "    </tr>\n",
       "    <tr>\n",
       "      <th>4</th>\n",
       "      <td>3</td>\n",
       "      <td>female</td>\n",
       "      <td>22.00000</td>\n",
       "      <td>S</td>\n",
       "      <td>3</td>\n",
       "    </tr>\n",
       "    <tr>\n",
       "      <th>...</th>\n",
       "      <td>...</td>\n",
       "      <td>...</td>\n",
       "      <td>...</td>\n",
       "      <td>...</td>\n",
       "      <td>...</td>\n",
       "    </tr>\n",
       "    <tr>\n",
       "      <th>413</th>\n",
       "      <td>3</td>\n",
       "      <td>male</td>\n",
       "      <td>30.27259</td>\n",
       "      <td>S</td>\n",
       "      <td>1</td>\n",
       "    </tr>\n",
       "    <tr>\n",
       "      <th>414</th>\n",
       "      <td>1</td>\n",
       "      <td>female</td>\n",
       "      <td>39.00000</td>\n",
       "      <td>C</td>\n",
       "      <td>1</td>\n",
       "    </tr>\n",
       "    <tr>\n",
       "      <th>415</th>\n",
       "      <td>3</td>\n",
       "      <td>male</td>\n",
       "      <td>38.50000</td>\n",
       "      <td>S</td>\n",
       "      <td>1</td>\n",
       "    </tr>\n",
       "    <tr>\n",
       "      <th>416</th>\n",
       "      <td>3</td>\n",
       "      <td>male</td>\n",
       "      <td>30.27259</td>\n",
       "      <td>S</td>\n",
       "      <td>1</td>\n",
       "    </tr>\n",
       "    <tr>\n",
       "      <th>417</th>\n",
       "      <td>3</td>\n",
       "      <td>male</td>\n",
       "      <td>30.27259</td>\n",
       "      <td>C</td>\n",
       "      <td>3</td>\n",
       "    </tr>\n",
       "  </tbody>\n",
       "</table>\n",
       "<p>418 rows × 5 columns</p>\n",
       "</div>"
      ],
      "text/plain": [
       "     Pclass     Sex       Age Embarked  Family\n",
       "0         3    male  34.50000        Q       1\n",
       "1         3  female  47.00000        S       2\n",
       "2         2    male  62.00000        Q       1\n",
       "3         3    male  27.00000        S       1\n",
       "4         3  female  22.00000        S       3\n",
       "..      ...     ...       ...      ...     ...\n",
       "413       3    male  30.27259        S       1\n",
       "414       1  female  39.00000        C       1\n",
       "415       3    male  38.50000        S       1\n",
       "416       3    male  30.27259        S       1\n",
       "417       3    male  30.27259        C       3\n",
       "\n",
       "[418 rows x 5 columns]"
      ]
     },
     "execution_count": 30,
     "metadata": {},
     "output_type": "execute_result"
    }
   ],
   "source": [
    "x"
   ]
  },
  {
   "cell_type": "code",
   "execution_count": 31,
   "id": "f8aa13f0",
   "metadata": {},
   "outputs": [],
   "source": [
    "ct = ColumnTransformer(transformers=[\n",
    "    ('tr1', OneHotEncoder(sparse=False, drop='first'), ['Sex', 'Embarked']),\n",
    "    ('tr2', OrdinalEncoder(categories=[['1', '2', '3']]), ['Pclass'])\n",
    "], remainder='passthrough')"
   ]
  },
  {
   "cell_type": "code",
   "execution_count": 32,
   "id": "7f0a6081",
   "metadata": {},
   "outputs": [],
   "source": [
    "x_train, x_test, y_train, y_test = train_test_split(x, y, test_size = 0.25)"
   ]
  },
  {
   "cell_type": "code",
   "execution_count": 33,
   "id": "376f1f69",
   "metadata": {},
   "outputs": [],
   "source": [
    "x_train_ct = ct.fit_transform(x_train)"
   ]
  },
  {
   "cell_type": "code",
   "execution_count": 34,
   "id": "df110fb6",
   "metadata": {},
   "outputs": [
    {
     "data": {
      "text/html": [
       "<div>\n",
       "<style scoped>\n",
       "    .dataframe tbody tr th:only-of-type {\n",
       "        vertical-align: middle;\n",
       "    }\n",
       "\n",
       "    .dataframe tbody tr th {\n",
       "        vertical-align: top;\n",
       "    }\n",
       "\n",
       "    .dataframe thead th {\n",
       "        text-align: right;\n",
       "    }\n",
       "</style>\n",
       "<table border=\"1\" class=\"dataframe\">\n",
       "  <thead>\n",
       "    <tr style=\"text-align: right;\">\n",
       "      <th></th>\n",
       "      <th>Pclass</th>\n",
       "      <th>Sex</th>\n",
       "      <th>Age</th>\n",
       "      <th>Embarked</th>\n",
       "      <th>Family</th>\n",
       "    </tr>\n",
       "  </thead>\n",
       "  <tbody>\n",
       "    <tr>\n",
       "      <th>173</th>\n",
       "      <td>3</td>\n",
       "      <td>male</td>\n",
       "      <td>30.27259</td>\n",
       "      <td>C</td>\n",
       "      <td>1</td>\n",
       "    </tr>\n",
       "    <tr>\n",
       "      <th>342</th>\n",
       "      <td>3</td>\n",
       "      <td>male</td>\n",
       "      <td>30.27259</td>\n",
       "      <td>S</td>\n",
       "      <td>11</td>\n",
       "    </tr>\n",
       "    <tr>\n",
       "      <th>131</th>\n",
       "      <td>1</td>\n",
       "      <td>male</td>\n",
       "      <td>53.00000</td>\n",
       "      <td>C</td>\n",
       "      <td>1</td>\n",
       "    </tr>\n",
       "    <tr>\n",
       "      <th>157</th>\n",
       "      <td>3</td>\n",
       "      <td>female</td>\n",
       "      <td>23.00000</td>\n",
       "      <td>S</td>\n",
       "      <td>1</td>\n",
       "    </tr>\n",
       "    <tr>\n",
       "      <th>170</th>\n",
       "      <td>3</td>\n",
       "      <td>male</td>\n",
       "      <td>30.27259</td>\n",
       "      <td>S</td>\n",
       "      <td>1</td>\n",
       "    </tr>\n",
       "    <tr>\n",
       "      <th>...</th>\n",
       "      <td>...</td>\n",
       "      <td>...</td>\n",
       "      <td>...</td>\n",
       "      <td>...</td>\n",
       "      <td>...</td>\n",
       "    </tr>\n",
       "    <tr>\n",
       "      <th>378</th>\n",
       "      <td>1</td>\n",
       "      <td>male</td>\n",
       "      <td>55.00000</td>\n",
       "      <td>S</td>\n",
       "      <td>1</td>\n",
       "    </tr>\n",
       "    <tr>\n",
       "      <th>397</th>\n",
       "      <td>1</td>\n",
       "      <td>female</td>\n",
       "      <td>48.00000</td>\n",
       "      <td>C</td>\n",
       "      <td>3</td>\n",
       "    </tr>\n",
       "    <tr>\n",
       "      <th>303</th>\n",
       "      <td>3</td>\n",
       "      <td>male</td>\n",
       "      <td>24.00000</td>\n",
       "      <td>S</td>\n",
       "      <td>1</td>\n",
       "    </tr>\n",
       "    <tr>\n",
       "      <th>246</th>\n",
       "      <td>2</td>\n",
       "      <td>female</td>\n",
       "      <td>22.00000</td>\n",
       "      <td>S</td>\n",
       "      <td>1</td>\n",
       "    </tr>\n",
       "    <tr>\n",
       "      <th>10</th>\n",
       "      <td>3</td>\n",
       "      <td>male</td>\n",
       "      <td>30.27259</td>\n",
       "      <td>S</td>\n",
       "      <td>1</td>\n",
       "    </tr>\n",
       "  </tbody>\n",
       "</table>\n",
       "<p>313 rows × 5 columns</p>\n",
       "</div>"
      ],
      "text/plain": [
       "     Pclass     Sex       Age Embarked  Family\n",
       "173       3    male  30.27259        C       1\n",
       "342       3    male  30.27259        S      11\n",
       "131       1    male  53.00000        C       1\n",
       "157       3  female  23.00000        S       1\n",
       "170       3    male  30.27259        S       1\n",
       "..      ...     ...       ...      ...     ...\n",
       "378       1    male  55.00000        S       1\n",
       "397       1  female  48.00000        C       3\n",
       "303       3    male  24.00000        S       1\n",
       "246       2  female  22.00000        S       1\n",
       "10        3    male  30.27259        S       1\n",
       "\n",
       "[313 rows x 5 columns]"
      ]
     },
     "execution_count": 34,
     "metadata": {},
     "output_type": "execute_result"
    }
   ],
   "source": [
    "x_train"
   ]
  },
  {
   "cell_type": "code",
   "execution_count": 35,
   "id": "a9ff1a2c",
   "metadata": {},
   "outputs": [
    {
     "data": {
      "text/plain": [
       "array([[ 1.        ,  0.        ,  0.        ,  2.        , 30.27259036,\n",
       "         1.        ],\n",
       "       [ 1.        ,  0.        ,  1.        ,  2.        , 30.27259036,\n",
       "        11.        ],\n",
       "       [ 1.        ,  0.        ,  0.        ,  0.        , 53.        ,\n",
       "         1.        ],\n",
       "       ...,\n",
       "       [ 1.        ,  0.        ,  1.        ,  2.        , 24.        ,\n",
       "         1.        ],\n",
       "       [ 0.        ,  0.        ,  1.        ,  1.        , 22.        ,\n",
       "         1.        ],\n",
       "       [ 1.        ,  0.        ,  1.        ,  2.        , 30.27259036,\n",
       "         1.        ]])"
      ]
     },
     "execution_count": 35,
     "metadata": {},
     "output_type": "execute_result"
    }
   ],
   "source": [
    "x_train_ct"
   ]
  },
  {
   "cell_type": "code",
   "execution_count": 36,
   "id": "c1377eae",
   "metadata": {},
   "outputs": [
    {
     "data": {
      "text/plain": [
       "numpy.ndarray"
      ]
     },
     "execution_count": 36,
     "metadata": {},
     "output_type": "execute_result"
    }
   ],
   "source": [
    "type(x_train_ct)"
   ]
  },
  {
   "cell_type": "code",
   "execution_count": 37,
   "id": "0747eadd",
   "metadata": {},
   "outputs": [],
   "source": [
    "x_test_ct = ct.transform(x_test)"
   ]
  },
  {
   "cell_type": "code",
   "execution_count": 38,
   "id": "88973743",
   "metadata": {},
   "outputs": [
    {
     "data": {
      "text/html": [
       "<div>\n",
       "<style scoped>\n",
       "    .dataframe tbody tr th:only-of-type {\n",
       "        vertical-align: middle;\n",
       "    }\n",
       "\n",
       "    .dataframe tbody tr th {\n",
       "        vertical-align: top;\n",
       "    }\n",
       "\n",
       "    .dataframe thead th {\n",
       "        text-align: right;\n",
       "    }\n",
       "</style>\n",
       "<table border=\"1\" class=\"dataframe\">\n",
       "  <thead>\n",
       "    <tr style=\"text-align: right;\">\n",
       "      <th></th>\n",
       "      <th>Pclass</th>\n",
       "      <th>Sex</th>\n",
       "      <th>Age</th>\n",
       "      <th>Embarked</th>\n",
       "      <th>Family</th>\n",
       "    </tr>\n",
       "  </thead>\n",
       "  <tbody>\n",
       "    <tr>\n",
       "      <th>197</th>\n",
       "      <td>3</td>\n",
       "      <td>female</td>\n",
       "      <td>18.00000</td>\n",
       "      <td>S</td>\n",
       "      <td>1</td>\n",
       "    </tr>\n",
       "    <tr>\n",
       "      <th>309</th>\n",
       "      <td>3</td>\n",
       "      <td>female</td>\n",
       "      <td>45.00000</td>\n",
       "      <td>S</td>\n",
       "      <td>2</td>\n",
       "    </tr>\n",
       "    <tr>\n",
       "      <th>180</th>\n",
       "      <td>2</td>\n",
       "      <td>male</td>\n",
       "      <td>30.00000</td>\n",
       "      <td>S</td>\n",
       "      <td>1</td>\n",
       "    </tr>\n",
       "    <tr>\n",
       "      <th>53</th>\n",
       "      <td>1</td>\n",
       "      <td>female</td>\n",
       "      <td>28.00000</td>\n",
       "      <td>S</td>\n",
       "      <td>6</td>\n",
       "    </tr>\n",
       "    <tr>\n",
       "      <th>126</th>\n",
       "      <td>3</td>\n",
       "      <td>male</td>\n",
       "      <td>22.00000</td>\n",
       "      <td>S</td>\n",
       "      <td>1</td>\n",
       "    </tr>\n",
       "    <tr>\n",
       "      <th>...</th>\n",
       "      <td>...</td>\n",
       "      <td>...</td>\n",
       "      <td>...</td>\n",
       "      <td>...</td>\n",
       "      <td>...</td>\n",
       "    </tr>\n",
       "    <tr>\n",
       "      <th>389</th>\n",
       "      <td>3</td>\n",
       "      <td>male</td>\n",
       "      <td>6.00000</td>\n",
       "      <td>S</td>\n",
       "      <td>5</td>\n",
       "    </tr>\n",
       "    <tr>\n",
       "      <th>200</th>\n",
       "      <td>3</td>\n",
       "      <td>female</td>\n",
       "      <td>30.27259</td>\n",
       "      <td>Q</td>\n",
       "      <td>1</td>\n",
       "    </tr>\n",
       "    <tr>\n",
       "      <th>281</th>\n",
       "      <td>3</td>\n",
       "      <td>male</td>\n",
       "      <td>0.75000</td>\n",
       "      <td>S</td>\n",
       "      <td>3</td>\n",
       "    </tr>\n",
       "    <tr>\n",
       "      <th>366</th>\n",
       "      <td>3</td>\n",
       "      <td>male</td>\n",
       "      <td>30.27259</td>\n",
       "      <td>C</td>\n",
       "      <td>2</td>\n",
       "    </tr>\n",
       "    <tr>\n",
       "      <th>91</th>\n",
       "      <td>3</td>\n",
       "      <td>male</td>\n",
       "      <td>30.27259</td>\n",
       "      <td>S</td>\n",
       "      <td>1</td>\n",
       "    </tr>\n",
       "  </tbody>\n",
       "</table>\n",
       "<p>105 rows × 5 columns</p>\n",
       "</div>"
      ],
      "text/plain": [
       "     Pclass     Sex       Age Embarked  Family\n",
       "197       3  female  18.00000        S       1\n",
       "309       3  female  45.00000        S       2\n",
       "180       2    male  30.00000        S       1\n",
       "53        1  female  28.00000        S       6\n",
       "126       3    male  22.00000        S       1\n",
       "..      ...     ...       ...      ...     ...\n",
       "389       3    male   6.00000        S       5\n",
       "200       3  female  30.27259        Q       1\n",
       "281       3    male   0.75000        S       3\n",
       "366       3    male  30.27259        C       2\n",
       "91        3    male  30.27259        S       1\n",
       "\n",
       "[105 rows x 5 columns]"
      ]
     },
     "execution_count": 38,
     "metadata": {},
     "output_type": "execute_result"
    }
   ],
   "source": [
    "x_test"
   ]
  },
  {
   "cell_type": "code",
   "execution_count": 39,
   "id": "9865eb20",
   "metadata": {},
   "outputs": [
    {
     "data": {
      "text/plain": [
       "array([[ 0.        ,  0.        ,  1.        ,  2.        , 18.        ,\n",
       "         1.        ],\n",
       "       [ 0.        ,  0.        ,  1.        ,  2.        , 45.        ,\n",
       "         2.        ],\n",
       "       [ 1.        ,  0.        ,  1.        ,  1.        , 30.        ,\n",
       "         1.        ],\n",
       "       [ 0.        ,  0.        ,  1.        ,  0.        , 28.        ,\n",
       "         6.        ],\n",
       "       [ 1.        ,  0.        ,  1.        ,  2.        , 22.        ,\n",
       "         1.        ],\n",
       "       [ 0.        ,  0.        ,  0.        ,  0.        , 26.        ,\n",
       "         2.        ],\n",
       "       [ 1.        ,  0.        ,  1.        ,  2.        , 23.        ,\n",
       "         1.        ],\n",
       "       [ 1.        ,  0.        ,  1.        ,  2.        , 27.        ,\n",
       "         1.        ],\n",
       "       [ 0.        ,  0.        ,  0.        ,  0.        , 45.        ,\n",
       "         2.        ],\n",
       "       [ 1.        ,  0.        ,  1.        ,  2.        , 28.        ,\n",
       "         1.        ],\n",
       "       [ 1.        ,  0.        ,  0.        ,  2.        , 25.        ,\n",
       "         1.        ],\n",
       "       [ 0.        ,  0.        ,  1.        ,  1.        , 29.        ,\n",
       "         2.        ],\n",
       "       [ 0.        ,  0.        ,  1.        ,  1.        , 24.        ,\n",
       "         4.        ],\n",
       "       [ 0.        ,  0.        ,  1.        ,  0.        , 30.27259036,\n",
       "         1.        ],\n",
       "       [ 0.        ,  0.        ,  0.        ,  0.        , 48.        ,\n",
       "         5.        ],\n",
       "       [ 0.        ,  0.        ,  1.        ,  2.        , 17.        ,\n",
       "         2.        ],\n",
       "       [ 1.        ,  0.        ,  1.        ,  1.        , 63.        ,\n",
       "         2.        ],\n",
       "       [ 1.        ,  0.        ,  1.        ,  1.        , 40.        ,\n",
       "         1.        ],\n",
       "       [ 1.        ,  0.        ,  1.        ,  1.        , 18.        ,\n",
       "         1.        ],\n",
       "       [ 0.        ,  0.        ,  1.        ,  2.        ,  2.        ,\n",
       "         3.        ],\n",
       "       [ 0.        ,  0.        ,  1.        ,  0.        , 18.        ,\n",
       "         2.        ],\n",
       "       [ 0.        ,  0.        ,  1.        ,  2.        , 33.        ,\n",
       "         4.        ],\n",
       "       [ 0.        ,  1.        ,  0.        ,  2.        , 30.27259036,\n",
       "         1.        ],\n",
       "       [ 1.        ,  0.        ,  0.        ,  2.        , 30.27259036,\n",
       "         1.        ],\n",
       "       [ 0.        ,  0.        ,  1.        ,  1.        ,  0.92      ,\n",
       "         4.        ],\n",
       "       [ 1.        ,  0.        ,  1.        ,  1.        , 26.        ,\n",
       "         1.        ],\n",
       "       [ 1.        ,  0.        ,  1.        ,  1.        , 26.        ,\n",
       "         3.        ],\n",
       "       [ 1.        ,  0.        ,  1.        ,  1.        , 28.        ,\n",
       "         1.        ],\n",
       "       [ 1.        ,  0.        ,  1.        ,  0.        , 24.        ,\n",
       "         2.        ],\n",
       "       [ 1.        ,  1.        ,  0.        ,  2.        , 31.        ,\n",
       "         1.        ],\n",
       "       [ 1.        ,  0.        ,  1.        ,  1.        , 22.        ,\n",
       "         1.        ],\n",
       "       [ 1.        ,  0.        ,  1.        ,  1.        ,  8.        ,\n",
       "         3.        ],\n",
       "       [ 1.        ,  0.        ,  1.        ,  2.        , 33.        ,\n",
       "         1.        ],\n",
       "       [ 1.        ,  0.        ,  1.        ,  2.        , 30.27259036,\n",
       "         1.        ],\n",
       "       [ 1.        ,  1.        ,  0.        ,  2.        , 30.27259036,\n",
       "         1.        ],\n",
       "       [ 1.        ,  0.        ,  1.        ,  2.        , 30.27259036,\n",
       "         1.        ],\n",
       "       [ 1.        ,  0.        ,  1.        ,  1.        , 44.        ,\n",
       "         1.        ],\n",
       "       [ 0.        ,  1.        ,  0.        ,  2.        , 30.27259036,\n",
       "         3.        ],\n",
       "       [ 0.        ,  0.        ,  1.        ,  2.        , 30.27259036,\n",
       "         1.        ],\n",
       "       [ 1.        ,  0.        ,  1.        ,  2.        , 40.5       ,\n",
       "         1.        ],\n",
       "       [ 0.        ,  1.        ,  0.        ,  2.        , 30.27259036,\n",
       "         1.        ],\n",
       "       [ 1.        ,  1.        ,  0.        ,  1.        , 61.        ,\n",
       "         1.        ],\n",
       "       [ 0.        ,  0.        ,  0.        ,  0.        , 45.        ,\n",
       "         1.        ],\n",
       "       [ 0.        ,  1.        ,  0.        ,  2.        , 37.        ,\n",
       "         1.        ],\n",
       "       [ 1.        ,  0.        ,  0.        ,  2.        , 30.27259036,\n",
       "         1.        ],\n",
       "       [ 1.        ,  0.        ,  1.        ,  1.        , 25.        ,\n",
       "         1.        ],\n",
       "       [ 1.        ,  0.        ,  1.        ,  2.        , 30.27259036,\n",
       "         1.        ],\n",
       "       [ 1.        ,  0.        ,  1.        ,  2.        , 29.        ,\n",
       "         1.        ],\n",
       "       [ 0.        ,  0.        ,  0.        ,  0.        , 25.        ,\n",
       "         2.        ],\n",
       "       [ 0.        ,  0.        ,  0.        ,  0.        , 39.        ,\n",
       "         1.        ],\n",
       "       [ 1.        ,  0.        ,  0.        ,  2.        , 22.5       ,\n",
       "         1.        ],\n",
       "       [ 0.        ,  0.        ,  1.        ,  1.        , 29.        ,\n",
       "         3.        ],\n",
       "       [ 0.        ,  0.        ,  1.        ,  0.        , 54.        ,\n",
       "         3.        ],\n",
       "       [ 1.        ,  0.        ,  0.        ,  0.        , 39.        ,\n",
       "         2.        ],\n",
       "       [ 1.        ,  0.        ,  1.        ,  2.        , 32.        ,\n",
       "         1.        ],\n",
       "       [ 1.        ,  1.        ,  0.        ,  2.        , 30.27259036,\n",
       "         1.        ],\n",
       "       [ 0.        ,  1.        ,  0.        ,  2.        , 30.27259036,\n",
       "         1.        ],\n",
       "       [ 0.        ,  0.        ,  1.        ,  1.        , 18.        ,\n",
       "         3.        ],\n",
       "       [ 1.        ,  1.        ,  0.        ,  2.        , 30.27259036,\n",
       "         1.        ],\n",
       "       [ 1.        ,  0.        ,  1.        ,  2.        , 18.        ,\n",
       "         1.        ],\n",
       "       [ 1.        ,  0.        ,  0.        ,  2.        , 30.27259036,\n",
       "         3.        ],\n",
       "       [ 1.        ,  0.        ,  1.        ,  1.        , 24.        ,\n",
       "         3.        ],\n",
       "       [ 1.        ,  0.        ,  1.        ,  1.        , 14.        ,\n",
       "         1.        ],\n",
       "       [ 0.        ,  0.        ,  0.        ,  0.        , 27.        ,\n",
       "         3.        ],\n",
       "       [ 0.        ,  0.        ,  1.        ,  1.        , 15.        ,\n",
       "         3.        ],\n",
       "       [ 0.        ,  0.        ,  1.        ,  0.        , 47.        ,\n",
       "         2.        ],\n",
       "       [ 1.        ,  0.        ,  1.        ,  2.        , 30.27259036,\n",
       "         3.        ],\n",
       "       [ 0.        ,  1.        ,  0.        ,  2.        , 27.        ,\n",
       "         1.        ],\n",
       "       [ 0.        ,  0.        ,  1.        ,  0.        , 55.        ,\n",
       "         3.        ],\n",
       "       [ 0.        ,  1.        ,  0.        ,  2.        , 24.        ,\n",
       "         1.        ],\n",
       "       [ 1.        ,  0.        ,  1.        ,  2.        , 32.        ,\n",
       "         1.        ],\n",
       "       [ 1.        ,  0.        ,  1.        ,  0.        , 23.        ,\n",
       "         1.        ],\n",
       "       [ 0.        ,  0.        ,  1.        ,  2.        , 29.        ,\n",
       "         1.        ],\n",
       "       [ 1.        ,  0.        ,  1.        ,  2.        , 17.        ,\n",
       "         1.        ],\n",
       "       [ 1.        ,  0.        ,  0.        ,  0.        , 25.        ,\n",
       "         1.        ],\n",
       "       [ 0.        ,  0.        ,  1.        ,  2.        , 30.27259036,\n",
       "         4.        ],\n",
       "       [ 1.        ,  0.        ,  1.        ,  2.        , 21.        ,\n",
       "         1.        ],\n",
       "       [ 0.        ,  0.        ,  1.        ,  2.        , 22.        ,\n",
       "         2.        ],\n",
       "       [ 0.        ,  0.        ,  1.        ,  1.        , 20.        ,\n",
       "         2.        ],\n",
       "       [ 0.        ,  0.        ,  1.        ,  0.        , 18.        ,\n",
       "         2.        ],\n",
       "       [ 1.        ,  0.        ,  1.        ,  2.        ,  0.83      ,\n",
       "         2.        ],\n",
       "       [ 0.        ,  0.        ,  0.        ,  0.        , 23.        ,\n",
       "         2.        ],\n",
       "       [ 1.        ,  0.        ,  1.        ,  2.        ,  9.        ,\n",
       "         2.        ],\n",
       "       [ 0.        ,  0.        ,  1.        ,  2.        , 22.        ,\n",
       "         1.        ],\n",
       "       [ 1.        ,  1.        ,  0.        ,  2.        , 30.27259036,\n",
       "         1.        ],\n",
       "       [ 1.        ,  0.        ,  1.        ,  2.        , 29.        ,\n",
       "         5.        ],\n",
       "       [ 1.        ,  0.        ,  0.        ,  2.        , 21.        ,\n",
       "         1.        ],\n",
       "       [ 1.        ,  1.        ,  0.        ,  1.        , 35.        ,\n",
       "         1.        ],\n",
       "       [ 1.        ,  0.        ,  0.        ,  0.        , 39.        ,\n",
       "         1.        ],\n",
       "       [ 1.        ,  0.        ,  1.        ,  2.        , 30.27259036,\n",
       "         1.        ],\n",
       "       [ 1.        ,  0.        ,  1.        ,  2.        , 32.5       ,\n",
       "         1.        ],\n",
       "       [ 0.        ,  0.        ,  1.        ,  2.        ,  3.        ,\n",
       "         3.        ],\n",
       "       [ 0.        ,  0.        ,  1.        ,  2.        , 26.        ,\n",
       "         3.        ],\n",
       "       [ 1.        ,  0.        ,  1.        ,  2.        , 36.        ,\n",
       "         1.        ],\n",
       "       [ 0.        ,  0.        ,  1.        ,  2.        ,  0.17      ,\n",
       "         4.        ],\n",
       "       [ 1.        ,  0.        ,  0.        ,  2.        ,  6.        ,\n",
       "         3.        ],\n",
       "       [ 0.        ,  0.        ,  1.        ,  2.        ,  1.        ,\n",
       "         3.        ],\n",
       "       [ 1.        ,  0.        ,  1.        ,  1.        , 32.        ,\n",
       "         1.        ],\n",
       "       [ 1.        ,  0.        ,  1.        ,  2.        , 21.        ,\n",
       "         2.        ],\n",
       "       [ 0.        ,  0.        ,  1.        ,  1.        , 30.        ,\n",
       "         1.        ],\n",
       "       [ 1.        ,  0.        ,  1.        ,  2.        ,  6.        ,\n",
       "         5.        ],\n",
       "       [ 0.        ,  1.        ,  0.        ,  2.        , 30.27259036,\n",
       "         1.        ],\n",
       "       [ 1.        ,  0.        ,  1.        ,  2.        ,  0.75      ,\n",
       "         3.        ],\n",
       "       [ 1.        ,  0.        ,  0.        ,  2.        , 30.27259036,\n",
       "         2.        ],\n",
       "       [ 1.        ,  0.        ,  1.        ,  2.        , 30.27259036,\n",
       "         1.        ]])"
      ]
     },
     "execution_count": 39,
     "metadata": {},
     "output_type": "execute_result"
    }
   ],
   "source": [
    "x_test_ct"
   ]
  },
  {
   "cell_type": "code",
   "execution_count": 40,
   "id": "10ab89b6",
   "metadata": {},
   "outputs": [
    {
     "name": "stdout",
     "output_type": "stream",
     "text": [
      "(313, 6)\n",
      "(105, 6)\n"
     ]
    }
   ],
   "source": [
    "print(x_train_ct.shape)\n",
    "print(x_test_ct.shape)"
   ]
  },
  {
   "cell_type": "code",
   "execution_count": 41,
   "id": "85f554e3",
   "metadata": {},
   "outputs": [],
   "source": [
    "mm = MinMaxScaler()"
   ]
  },
  {
   "cell_type": "code",
   "execution_count": 42,
   "id": "ff03e014",
   "metadata": {},
   "outputs": [],
   "source": [
    "x_train_ct_mm = mm.fit_transform(x_train_ct)"
   ]
  },
  {
   "cell_type": "code",
   "execution_count": 43,
   "id": "d5edcf91",
   "metadata": {},
   "outputs": [
    {
     "data": {
      "text/plain": [
       "array([[1.        , 0.        , 0.        , 1.        , 0.39569962,\n",
       "        0.        ],\n",
       "       [1.        , 0.        , 1.        , 1.        , 0.39569962,\n",
       "        1.        ],\n",
       "       [1.        , 0.        , 0.        , 0.        , 0.69604863,\n",
       "        0.        ],\n",
       "       ...,\n",
       "       [1.        , 0.        , 1.        , 1.        , 0.3128056 ,\n",
       "        0.        ],\n",
       "       [0.        , 0.        , 1.        , 0.5       , 0.28637505,\n",
       "        0.        ],\n",
       "       [1.        , 0.        , 1.        , 1.        , 0.39569962,\n",
       "        0.        ]])"
      ]
     },
     "execution_count": 43,
     "metadata": {},
     "output_type": "execute_result"
    }
   ],
   "source": [
    "x_train_ct_mm"
   ]
  },
  {
   "cell_type": "code",
   "execution_count": 44,
   "id": "cff2d0af",
   "metadata": {},
   "outputs": [],
   "source": [
    "x_test_ct_mm = mm.transform(x_test_ct)"
   ]
  },
  {
   "cell_type": "code",
   "execution_count": 45,
   "id": "ffd3b25b",
   "metadata": {},
   "outputs": [
    {
     "data": {
      "text/plain": [
       "array([[ 0.        ,  0.        ,  1.        ,  1.        ,  0.23351394,\n",
       "         0.        ],\n",
       "       [ 0.        ,  0.        ,  1.        ,  1.        ,  0.59032642,\n",
       "         0.1       ],\n",
       "       [ 1.        ,  0.        ,  1.        ,  0.5       ,  0.39209726,\n",
       "         0.        ],\n",
       "       [ 0.        ,  0.        ,  1.        ,  0.        ,  0.36566671,\n",
       "         0.5       ],\n",
       "       [ 1.        ,  0.        ,  1.        ,  1.        ,  0.28637505,\n",
       "         0.        ],\n",
       "       [ 0.        ,  0.        ,  0.        ,  0.        ,  0.33923616,\n",
       "         0.1       ],\n",
       "       [ 1.        ,  0.        ,  1.        ,  1.        ,  0.29959033,\n",
       "         0.        ],\n",
       "       [ 1.        ,  0.        ,  1.        ,  1.        ,  0.35245143,\n",
       "         0.        ],\n",
       "       [ 0.        ,  0.        ,  0.        ,  0.        ,  0.59032642,\n",
       "         0.1       ],\n",
       "       [ 1.        ,  0.        ,  1.        ,  1.        ,  0.36566671,\n",
       "         0.        ],\n",
       "       [ 1.        ,  0.        ,  0.        ,  1.        ,  0.32602088,\n",
       "         0.        ],\n",
       "       [ 0.        ,  0.        ,  1.        ,  0.5       ,  0.37888199,\n",
       "         0.1       ],\n",
       "       [ 0.        ,  0.        ,  1.        ,  0.5       ,  0.3128056 ,\n",
       "         0.3       ],\n",
       "       [ 0.        ,  0.        ,  1.        ,  0.        ,  0.39569962,\n",
       "         0.        ],\n",
       "       [ 0.        ,  0.        ,  0.        ,  0.        ,  0.62997225,\n",
       "         0.4       ],\n",
       "       [ 0.        ,  0.        ,  1.        ,  1.        ,  0.22029867,\n",
       "         0.1       ],\n",
       "       [ 1.        ,  0.        ,  1.        ,  0.5       ,  0.8282014 ,\n",
       "         0.1       ],\n",
       "       [ 1.        ,  0.        ,  1.        ,  0.5       ,  0.52425003,\n",
       "         0.        ],\n",
       "       [ 1.        ,  0.        ,  1.        ,  0.5       ,  0.23351394,\n",
       "         0.        ],\n",
       "       [ 0.        ,  0.        ,  1.        ,  1.        ,  0.02206951,\n",
       "         0.2       ],\n",
       "       [ 0.        ,  0.        ,  1.        ,  0.        ,  0.23351394,\n",
       "         0.1       ],\n",
       "       [ 0.        ,  0.        ,  1.        ,  1.        ,  0.4317431 ,\n",
       "         0.3       ],\n",
       "       [ 0.        ,  1.        ,  0.        ,  1.        ,  0.39569962,\n",
       "         0.        ],\n",
       "       [ 1.        ,  0.        ,  0.        ,  1.        ,  0.39569962,\n",
       "         0.        ],\n",
       "       [ 0.        ,  0.        ,  1.        ,  0.5       ,  0.00779701,\n",
       "         0.3       ],\n",
       "       [ 1.        ,  0.        ,  1.        ,  0.5       ,  0.33923616,\n",
       "         0.        ],\n",
       "       [ 1.        ,  0.        ,  1.        ,  0.5       ,  0.33923616,\n",
       "         0.2       ],\n",
       "       [ 1.        ,  0.        ,  1.        ,  0.5       ,  0.36566671,\n",
       "         0.        ],\n",
       "       [ 1.        ,  0.        ,  1.        ,  0.        ,  0.3128056 ,\n",
       "         0.1       ],\n",
       "       [ 1.        ,  1.        ,  0.        ,  1.        ,  0.40531254,\n",
       "         0.        ],\n",
       "       [ 1.        ,  0.        ,  1.        ,  0.5       ,  0.28637505,\n",
       "         0.        ],\n",
       "       [ 1.        ,  0.        ,  1.        ,  0.5       ,  0.10136117,\n",
       "         0.2       ],\n",
       "       [ 1.        ,  0.        ,  1.        ,  1.        ,  0.4317431 ,\n",
       "         0.        ],\n",
       "       [ 1.        ,  0.        ,  1.        ,  1.        ,  0.39569962,\n",
       "         0.        ],\n",
       "       [ 1.        ,  1.        ,  0.        ,  1.        ,  0.39569962,\n",
       "         0.        ],\n",
       "       [ 1.        ,  0.        ,  1.        ,  1.        ,  0.39569962,\n",
       "         0.        ],\n",
       "       [ 1.        ,  0.        ,  1.        ,  0.5       ,  0.57711114,\n",
       "         0.        ],\n",
       "       [ 0.        ,  1.        ,  0.        ,  1.        ,  0.39569962,\n",
       "         0.2       ],\n",
       "       [ 0.        ,  0.        ,  1.        ,  1.        ,  0.39569962,\n",
       "         0.        ],\n",
       "       [ 1.        ,  0.        ,  1.        ,  1.        ,  0.53085767,\n",
       "         0.        ],\n",
       "       [ 0.        ,  1.        ,  0.        ,  1.        ,  0.39569962,\n",
       "         0.        ],\n",
       "       [ 1.        ,  1.        ,  0.        ,  0.5       ,  0.80177085,\n",
       "         0.        ],\n",
       "       [ 0.        ,  0.        ,  0.        ,  0.        ,  0.59032642,\n",
       "         0.        ],\n",
       "       [ 0.        ,  1.        ,  0.        ,  1.        ,  0.4846042 ,\n",
       "         0.        ],\n",
       "       [ 1.        ,  0.        ,  0.        ,  1.        ,  0.39569962,\n",
       "         0.        ],\n",
       "       [ 1.        ,  0.        ,  1.        ,  0.5       ,  0.32602088,\n",
       "         0.        ],\n",
       "       [ 1.        ,  0.        ,  1.        ,  1.        ,  0.39569962,\n",
       "         0.        ],\n",
       "       [ 1.        ,  0.        ,  1.        ,  1.        ,  0.37888199,\n",
       "         0.        ],\n",
       "       [ 0.        ,  0.        ,  0.        ,  0.        ,  0.32602088,\n",
       "         0.1       ],\n",
       "       [ 0.        ,  0.        ,  0.        ,  0.        ,  0.51103476,\n",
       "         0.        ],\n",
       "       [ 1.        ,  0.        ,  0.        ,  1.        ,  0.29298269,\n",
       "         0.        ],\n",
       "       [ 0.        ,  0.        ,  1.        ,  0.5       ,  0.37888199,\n",
       "         0.2       ],\n",
       "       [ 0.        ,  0.        ,  1.        ,  0.        ,  0.70926391,\n",
       "         0.2       ],\n",
       "       [ 1.        ,  0.        ,  0.        ,  0.        ,  0.51103476,\n",
       "         0.1       ],\n",
       "       [ 1.        ,  0.        ,  1.        ,  1.        ,  0.41852782,\n",
       "         0.        ],\n",
       "       [ 1.        ,  1.        ,  0.        ,  1.        ,  0.39569962,\n",
       "         0.        ],\n",
       "       [ 0.        ,  1.        ,  0.        ,  1.        ,  0.39569962,\n",
       "         0.        ],\n",
       "       [ 0.        ,  0.        ,  1.        ,  0.5       ,  0.23351394,\n",
       "         0.2       ],\n",
       "       [ 1.        ,  1.        ,  0.        ,  1.        ,  0.39569962,\n",
       "         0.        ],\n",
       "       [ 1.        ,  0.        ,  1.        ,  1.        ,  0.23351394,\n",
       "         0.        ],\n",
       "       [ 1.        ,  0.        ,  0.        ,  1.        ,  0.39569962,\n",
       "         0.2       ],\n",
       "       [ 1.        ,  0.        ,  1.        ,  0.5       ,  0.3128056 ,\n",
       "         0.2       ],\n",
       "       [ 1.        ,  0.        ,  1.        ,  0.5       ,  0.18065283,\n",
       "         0.        ],\n",
       "       [ 0.        ,  0.        ,  0.        ,  0.        ,  0.35245143,\n",
       "         0.2       ],\n",
       "       [ 0.        ,  0.        ,  1.        ,  0.5       ,  0.19386811,\n",
       "         0.2       ],\n",
       "       [ 0.        ,  0.        ,  1.        ,  0.        ,  0.61675697,\n",
       "         0.1       ],\n",
       "       [ 1.        ,  0.        ,  1.        ,  1.        ,  0.39569962,\n",
       "         0.2       ],\n",
       "       [ 0.        ,  1.        ,  0.        ,  1.        ,  0.35245143,\n",
       "         0.        ],\n",
       "       [ 0.        ,  0.        ,  1.        ,  0.        ,  0.72247919,\n",
       "         0.2       ],\n",
       "       [ 0.        ,  1.        ,  0.        ,  1.        ,  0.3128056 ,\n",
       "         0.        ],\n",
       "       [ 1.        ,  0.        ,  1.        ,  1.        ,  0.41852782,\n",
       "         0.        ],\n",
       "       [ 1.        ,  0.        ,  1.        ,  0.        ,  0.29959033,\n",
       "         0.        ],\n",
       "       [ 0.        ,  0.        ,  1.        ,  1.        ,  0.37888199,\n",
       "         0.        ],\n",
       "       [ 1.        ,  0.        ,  1.        ,  1.        ,  0.22029867,\n",
       "         0.        ],\n",
       "       [ 1.        ,  0.        ,  0.        ,  0.        ,  0.32602088,\n",
       "         0.        ],\n",
       "       [ 0.        ,  0.        ,  1.        ,  1.        ,  0.39569962,\n",
       "         0.3       ],\n",
       "       [ 1.        ,  0.        ,  1.        ,  1.        ,  0.27315977,\n",
       "         0.        ],\n",
       "       [ 0.        ,  0.        ,  1.        ,  1.        ,  0.28637505,\n",
       "         0.1       ],\n",
       "       [ 0.        ,  0.        ,  1.        ,  0.5       ,  0.2599445 ,\n",
       "         0.1       ],\n",
       "       [ 0.        ,  0.        ,  1.        ,  0.        ,  0.23351394,\n",
       "         0.1       ],\n",
       "       [ 1.        ,  0.        ,  1.        ,  1.        ,  0.00660764,\n",
       "         0.1       ],\n",
       "       [ 0.        ,  0.        ,  0.        ,  0.        ,  0.29959033,\n",
       "         0.1       ],\n",
       "       [ 1.        ,  0.        ,  1.        ,  1.        ,  0.11457645,\n",
       "         0.1       ],\n",
       "       [ 0.        ,  0.        ,  1.        ,  1.        ,  0.28637505,\n",
       "         0.        ],\n",
       "       [ 1.        ,  1.        ,  0.        ,  1.        ,  0.39569962,\n",
       "         0.        ],\n",
       "       [ 1.        ,  0.        ,  1.        ,  1.        ,  0.37888199,\n",
       "         0.4       ],\n",
       "       [ 1.        ,  0.        ,  0.        ,  1.        ,  0.27315977,\n",
       "         0.        ],\n",
       "       [ 1.        ,  1.        ,  0.        ,  0.5       ,  0.45817365,\n",
       "         0.        ],\n",
       "       [ 1.        ,  0.        ,  0.        ,  0.        ,  0.51103476,\n",
       "         0.        ],\n",
       "       [ 1.        ,  0.        ,  1.        ,  1.        ,  0.39569962,\n",
       "         0.        ],\n",
       "       [ 1.        ,  0.        ,  1.        ,  1.        ,  0.42513546,\n",
       "         0.        ],\n",
       "       [ 0.        ,  0.        ,  1.        ,  1.        ,  0.03528479,\n",
       "         0.2       ],\n",
       "       [ 0.        ,  0.        ,  1.        ,  1.        ,  0.33923616,\n",
       "         0.2       ],\n",
       "       [ 1.        ,  0.        ,  1.        ,  1.        ,  0.47138893,\n",
       "         0.        ],\n",
       "       [ 0.        ,  0.        ,  1.        ,  1.        , -0.00211444,\n",
       "         0.3       ],\n",
       "       [ 1.        ,  0.        ,  0.        ,  1.        ,  0.07493062,\n",
       "         0.2       ],\n",
       "       [ 0.        ,  0.        ,  1.        ,  1.        ,  0.00885424,\n",
       "         0.2       ],\n",
       "       [ 1.        ,  0.        ,  1.        ,  0.5       ,  0.41852782,\n",
       "         0.        ],\n",
       "       [ 1.        ,  0.        ,  1.        ,  1.        ,  0.27315977,\n",
       "         0.1       ],\n",
       "       [ 0.        ,  0.        ,  1.        ,  0.5       ,  0.39209726,\n",
       "         0.        ],\n",
       "       [ 1.        ,  0.        ,  1.        ,  1.        ,  0.07493062,\n",
       "         0.4       ],\n",
       "       [ 0.        ,  1.        ,  0.        ,  1.        ,  0.39569962,\n",
       "         0.        ],\n",
       "       [ 1.        ,  0.        ,  1.        ,  1.        ,  0.00555042,\n",
       "         0.2       ],\n",
       "       [ 1.        ,  0.        ,  0.        ,  1.        ,  0.39569962,\n",
       "         0.1       ],\n",
       "       [ 1.        ,  0.        ,  1.        ,  1.        ,  0.39569962,\n",
       "         0.        ]])"
      ]
     },
     "execution_count": 45,
     "metadata": {},
     "output_type": "execute_result"
    }
   ],
   "source": [
    "x_test_ct_mm"
   ]
  },
  {
   "cell_type": "markdown",
   "id": "b07b0357",
   "metadata": {},
   "source": [
    "#  Modelling"
   ]
  },
  {
   "cell_type": "markdown",
   "id": "5451fd7e",
   "metadata": {},
   "source": [
    "### A. Logistic Regression"
   ]
  },
  {
   "cell_type": "code",
   "execution_count": 46,
   "id": "e78d4dd7",
   "metadata": {},
   "outputs": [],
   "source": [
    "lr = LogisticRegression()"
   ]
  },
  {
   "cell_type": "code",
   "execution_count": 47,
   "id": "1c916503",
   "metadata": {},
   "outputs": [
    {
     "data": {
      "text/html": [
       "<style>#sk-container-id-1 {color: black;}#sk-container-id-1 pre{padding: 0;}#sk-container-id-1 div.sk-toggleable {background-color: white;}#sk-container-id-1 label.sk-toggleable__label {cursor: pointer;display: block;width: 100%;margin-bottom: 0;padding: 0.3em;box-sizing: border-box;text-align: center;}#sk-container-id-1 label.sk-toggleable__label-arrow:before {content: \"▸\";float: left;margin-right: 0.25em;color: #696969;}#sk-container-id-1 label.sk-toggleable__label-arrow:hover:before {color: black;}#sk-container-id-1 div.sk-estimator:hover label.sk-toggleable__label-arrow:before {color: black;}#sk-container-id-1 div.sk-toggleable__content {max-height: 0;max-width: 0;overflow: hidden;text-align: left;background-color: #f0f8ff;}#sk-container-id-1 div.sk-toggleable__content pre {margin: 0.2em;color: black;border-radius: 0.25em;background-color: #f0f8ff;}#sk-container-id-1 input.sk-toggleable__control:checked~div.sk-toggleable__content {max-height: 200px;max-width: 100%;overflow: auto;}#sk-container-id-1 input.sk-toggleable__control:checked~label.sk-toggleable__label-arrow:before {content: \"▾\";}#sk-container-id-1 div.sk-estimator input.sk-toggleable__control:checked~label.sk-toggleable__label {background-color: #d4ebff;}#sk-container-id-1 div.sk-label input.sk-toggleable__control:checked~label.sk-toggleable__label {background-color: #d4ebff;}#sk-container-id-1 input.sk-hidden--visually {border: 0;clip: rect(1px 1px 1px 1px);clip: rect(1px, 1px, 1px, 1px);height: 1px;margin: -1px;overflow: hidden;padding: 0;position: absolute;width: 1px;}#sk-container-id-1 div.sk-estimator {font-family: monospace;background-color: #f0f8ff;border: 1px dotted black;border-radius: 0.25em;box-sizing: border-box;margin-bottom: 0.5em;}#sk-container-id-1 div.sk-estimator:hover {background-color: #d4ebff;}#sk-container-id-1 div.sk-parallel-item::after {content: \"\";width: 100%;border-bottom: 1px solid gray;flex-grow: 1;}#sk-container-id-1 div.sk-label:hover label.sk-toggleable__label {background-color: #d4ebff;}#sk-container-id-1 div.sk-serial::before {content: \"\";position: absolute;border-left: 1px solid gray;box-sizing: border-box;top: 0;bottom: 0;left: 50%;z-index: 0;}#sk-container-id-1 div.sk-serial {display: flex;flex-direction: column;align-items: center;background-color: white;padding-right: 0.2em;padding-left: 0.2em;position: relative;}#sk-container-id-1 div.sk-item {position: relative;z-index: 1;}#sk-container-id-1 div.sk-parallel {display: flex;align-items: stretch;justify-content: center;background-color: white;position: relative;}#sk-container-id-1 div.sk-item::before, #sk-container-id-1 div.sk-parallel-item::before {content: \"\";position: absolute;border-left: 1px solid gray;box-sizing: border-box;top: 0;bottom: 0;left: 50%;z-index: -1;}#sk-container-id-1 div.sk-parallel-item {display: flex;flex-direction: column;z-index: 1;position: relative;background-color: white;}#sk-container-id-1 div.sk-parallel-item:first-child::after {align-self: flex-end;width: 50%;}#sk-container-id-1 div.sk-parallel-item:last-child::after {align-self: flex-start;width: 50%;}#sk-container-id-1 div.sk-parallel-item:only-child::after {width: 0;}#sk-container-id-1 div.sk-dashed-wrapped {border: 1px dashed gray;margin: 0 0.4em 0.5em 0.4em;box-sizing: border-box;padding-bottom: 0.4em;background-color: white;}#sk-container-id-1 div.sk-label label {font-family: monospace;font-weight: bold;display: inline-block;line-height: 1.2em;}#sk-container-id-1 div.sk-label-container {text-align: center;}#sk-container-id-1 div.sk-container {/* jupyter's `normalize.less` sets `[hidden] { display: none; }` but bootstrap.min.css set `[hidden] { display: none !important; }` so we also need the `!important` here to be able to override the default hidden behavior on the sphinx rendered scikit-learn.org. See: https://github.com/scikit-learn/scikit-learn/issues/21755 */display: inline-block !important;position: relative;}#sk-container-id-1 div.sk-text-repr-fallback {display: none;}</style><div id=\"sk-container-id-1\" class=\"sk-top-container\"><div class=\"sk-text-repr-fallback\"><pre>LogisticRegression()</pre><b>In a Jupyter environment, please rerun this cell to show the HTML representation or trust the notebook. <br />On GitHub, the HTML representation is unable to render, please try loading this page with nbviewer.org.</b></div><div class=\"sk-container\" hidden><div class=\"sk-item\"><div class=\"sk-estimator sk-toggleable\"><input class=\"sk-toggleable__control sk-hidden--visually\" id=\"sk-estimator-id-1\" type=\"checkbox\" checked><label for=\"sk-estimator-id-1\" class=\"sk-toggleable__label sk-toggleable__label-arrow\">LogisticRegression</label><div class=\"sk-toggleable__content\"><pre>LogisticRegression()</pre></div></div></div></div></div>"
      ],
      "text/plain": [
       "LogisticRegression()"
      ]
     },
     "execution_count": 47,
     "metadata": {},
     "output_type": "execute_result"
    }
   ],
   "source": [
    "lr.fit(x_train_ct_mm, y_train)"
   ]
  },
  {
   "cell_type": "code",
   "execution_count": 48,
   "id": "0a21190e",
   "metadata": {},
   "outputs": [],
   "source": [
    "pred_lr = lr.predict(x_test_ct_mm)"
   ]
  },
  {
   "cell_type": "code",
   "execution_count": 49,
   "id": "07e28bcf",
   "metadata": {},
   "outputs": [],
   "source": [
    "score_lr = accuracy_score(y_test, pred_lr)"
   ]
  },
  {
   "cell_type": "code",
   "execution_count": 50,
   "id": "f6bb517e",
   "metadata": {},
   "outputs": [
    {
     "data": {
      "text/plain": [
       "1.0"
      ]
     },
     "execution_count": 50,
     "metadata": {},
     "output_type": "execute_result"
    }
   ],
   "source": [
    "score_lr"
   ]
  },
  {
   "cell_type": "code",
   "execution_count": 51,
   "id": "d2fd1757",
   "metadata": {},
   "outputs": [],
   "source": [
    "score_lr_new = f1_score(y_test, pred_lr)"
   ]
  },
  {
   "cell_type": "code",
   "execution_count": 52,
   "id": "4b40772c",
   "metadata": {},
   "outputs": [
    {
     "data": {
      "text/plain": [
       "1.0"
      ]
     },
     "execution_count": 52,
     "metadata": {},
     "output_type": "execute_result"
    }
   ],
   "source": [
    "score_lr_new"
   ]
  },
  {
   "cell_type": "code",
   "execution_count": 53,
   "id": "6aef8f39",
   "metadata": {},
   "outputs": [],
   "source": [
    "cm_lr = confusion_matrix(y_test, pred_lr)"
   ]
  },
  {
   "cell_type": "code",
   "execution_count": 54,
   "id": "fe0d0ee8",
   "metadata": {},
   "outputs": [
    {
     "data": {
      "text/plain": [
       "<Axes: >"
      ]
     },
     "execution_count": 54,
     "metadata": {},
     "output_type": "execute_result"
    },
    {
     "data": {
      "image/png": "[encoded data removed]",
      "text/plain": [
       "<Figure size 640x480 with 2 Axes>"
      ]
     },
     "metadata": {},
     "output_type": "display_data"
    }
   ],
   "source": [
    "sns.heatmap(cm_lr)"
   ]
  },
  {
   "cell_type": "markdown",
   "id": "34071181",
   "metadata": {},
   "source": [
    "### B. DecisionTree"
   ]
  },
  {
   "cell_type": "code",
   "execution_count": 55,
   "id": "35fa0fc2",
   "metadata": {},
   "outputs": [],
   "source": [
    "dt = DecisionTreeClassifier()"
   ]
  },
  {
   "cell_type": "code",
   "execution_count": 56,
   "id": "e9b9327c",
   "metadata": {},
   "outputs": [
    {
     "data": {
      "text/html": [
       "<style>#sk-container-id-2 {color: black;}#sk-container-id-2 pre{padding: 0;}#sk-container-id-2 div.sk-toggleable {background-color: white;}#sk-container-id-2 label.sk-toggleable__label {cursor: pointer;display: block;width: 100%;margin-bottom: 0;padding: 0.3em;box-sizing: border-box;text-align: center;}#sk-container-id-2 label.sk-toggleable__label-arrow:before {content: \"▸\";float: left;margin-right: 0.25em;color: #696969;}#sk-container-id-2 label.sk-toggleable__label-arrow:hover:before {color: black;}#sk-container-id-2 div.sk-estimator:hover label.sk-toggleable__label-arrow:before {color: black;}#sk-container-id-2 div.sk-toggleable__content {max-height: 0;max-width: 0;overflow: hidden;text-align: left;background-color: #f0f8ff;}#sk-container-id-2 div.sk-toggleable__content pre {margin: 0.2em;color: black;border-radius: 0.25em;background-color: #f0f8ff;}#sk-container-id-2 input.sk-toggleable__control:checked~div.sk-toggleable__content {max-height: 200px;max-width: 100%;overflow: auto;}#sk-container-id-2 input.sk-toggleable__control:checked~label.sk-toggleable__label-arrow:before {content: \"▾\";}#sk-container-id-2 div.sk-estimator input.sk-toggleable__control:checked~label.sk-toggleable__label {background-color: #d4ebff;}#sk-container-id-2 div.sk-label input.sk-toggleable__control:checked~label.sk-toggleable__label {background-color: #d4ebff;}#sk-container-id-2 input.sk-hidden--visually {border: 0;clip: rect(1px 1px 1px 1px);clip: rect(1px, 1px, 1px, 1px);height: 1px;margin: -1px;overflow: hidden;padding: 0;position: absolute;width: 1px;}#sk-container-id-2 div.sk-estimator {font-family: monospace;background-color: #f0f8ff;border: 1px dotted black;border-radius: 0.25em;box-sizing: border-box;margin-bottom: 0.5em;}#sk-container-id-2 div.sk-estimator:hover {background-color: #d4ebff;}#sk-container-id-2 div.sk-parallel-item::after {content: \"\";width: 100%;border-bottom: 1px solid gray;flex-grow: 1;}#sk-container-id-2 div.sk-label:hover label.sk-toggleable__label {background-color: #d4ebff;}#sk-container-id-2 div.sk-serial::before {content: \"\";position: absolute;border-left: 1px solid gray;box-sizing: border-box;top: 0;bottom: 0;left: 50%;z-index: 0;}#sk-container-id-2 div.sk-serial {display: flex;flex-direction: column;align-items: center;background-color: white;padding-right: 0.2em;padding-left: 0.2em;position: relative;}#sk-container-id-2 div.sk-item {position: relative;z-index: 1;}#sk-container-id-2 div.sk-parallel {display: flex;align-items: stretch;justify-content: center;background-color: white;position: relative;}#sk-container-id-2 div.sk-item::before, #sk-container-id-2 div.sk-parallel-item::before {content: \"\";position: absolute;border-left: 1px solid gray;box-sizing: border-box;top: 0;bottom: 0;left: 50%;z-index: -1;}#sk-container-id-2 div.sk-parallel-item {display: flex;flex-direction: column;z-index: 1;position: relative;background-color: white;}#sk-container-id-2 div.sk-parallel-item:first-child::after {align-self: flex-end;width: 50%;}#sk-container-id-2 div.sk-parallel-item:last-child::after {align-self: flex-start;width: 50%;}#sk-container-id-2 div.sk-parallel-item:only-child::after {width: 0;}#sk-container-id-2 div.sk-dashed-wrapped {border: 1px dashed gray;margin: 0 0.4em 0.5em 0.4em;box-sizing: border-box;padding-bottom: 0.4em;background-color: white;}#sk-container-id-2 div.sk-label label {font-family: monospace;font-weight: bold;display: inline-block;line-height: 1.2em;}#sk-container-id-2 div.sk-label-container {text-align: center;}#sk-container-id-2 div.sk-container {/* jupyter's `normalize.less` sets `[hidden] { display: none; }` but bootstrap.min.css set `[hidden] { display: none !important; }` so we also need the `!important` here to be able to override the default hidden behavior on the sphinx rendered scikit-learn.org. See: https://github.com/scikit-learn/scikit-learn/issues/21755 */display: inline-block !important;position: relative;}#sk-container-id-2 div.sk-text-repr-fallback {display: none;}</style><div id=\"sk-container-id-2\" class=\"sk-top-container\"><div class=\"sk-text-repr-fallback\"><pre>DecisionTreeClassifier()</pre><b>In a Jupyter environment, please rerun this cell to show the HTML representation or trust the notebook. <br />On GitHub, the HTML representation is unable to render, please try loading this page with nbviewer.org.</b></div><div class=\"sk-container\" hidden><div class=\"sk-item\"><div class=\"sk-estimator sk-toggleable\"><input class=\"sk-toggleable__control sk-hidden--visually\" id=\"sk-estimator-id-2\" type=\"checkbox\" checked><label for=\"sk-estimator-id-2\" class=\"sk-toggleable__label sk-toggleable__label-arrow\">DecisionTreeClassifier</label><div class=\"sk-toggleable__content\"><pre>DecisionTreeClassifier()</pre></div></div></div></div></div>"
      ],
      "text/plain": [
       "DecisionTreeClassifier()"
      ]
     },
     "execution_count": 56,
     "metadata": {},
     "output_type": "execute_result"
    }
   ],
   "source": [
    "dt.fit(x_train_ct_mm, y_train)"
   ]
  },
  {
   "cell_type": "code",
   "execution_count": 57,
   "id": "7bc98917",
   "metadata": {},
   "outputs": [],
   "source": [
    "pred_dt = dt.predict(x_test_ct_mm)"
   ]
  },
  {
   "cell_type": "code",
   "execution_count": 58,
   "id": "ec876162",
   "metadata": {},
   "outputs": [],
   "source": [
    "score_dt = accuracy_score(y_test, pred_dt)"
   ]
  },
  {
   "cell_type": "code",
   "execution_count": 59,
   "id": "70b065fd",
   "metadata": {},
   "outputs": [
    {
     "data": {
      "text/plain": [
       "1.0"
      ]
     },
     "execution_count": 59,
     "metadata": {},
     "output_type": "execute_result"
    }
   ],
   "source": [
    "score_dt"
   ]
  },
  {
   "cell_type": "code",
   "execution_count": 60,
   "id": "071f2424",
   "metadata": {},
   "outputs": [],
   "source": [
    "cm_dtc = confusion_matrix(y_test, pred_dt)"
   ]
  },
  {
   "cell_type": "code",
   "execution_count": 61,
   "id": "3d71bfc8",
   "metadata": {},
   "outputs": [
    {
     "data": {
      "text/plain": [
       "<Axes: >"
      ]
     },
     "execution_count": 61,
     "metadata": {},
     "output_type": "execute_result"
    },
    {
     "data": {
      "image/png": "[encoded data removed]",
      "text/plain": [
       "<Figure size 640x480 with 2 Axes>"
      ]
     },
     "metadata": {},
     "output_type": "display_data"
    }
   ],
   "source": [
    "sns.heatmap(cm_dtc)"
   ]
  },
  {
   "cell_type": "markdown",
   "id": "1f13d633",
   "metadata": {},
   "source": [
    "### C. Random Forest Classifier"
   ]
  },
  {
   "cell_type": "code",
   "execution_count": 62,
   "id": "f67a5cd0",
   "metadata": {},
   "outputs": [],
   "source": [
    "rfc = RandomForestClassifier()"
   ]
  },
  {
   "cell_type": "code",
   "execution_count": 63,
   "id": "0e957e7c",
   "metadata": {},
   "outputs": [
    {
     "data": {
      "text/html": [
       "<style>#sk-container-id-3 {color: black;}#sk-container-id-3 pre{padding: 0;}#sk-container-id-3 div.sk-toggleable {background-color: white;}#sk-container-id-3 label.sk-toggleable__label {cursor: pointer;display: block;width: 100%;margin-bottom: 0;padding: 0.3em;box-sizing: border-box;text-align: center;}#sk-container-id-3 label.sk-toggleable__label-arrow:before {content: \"▸\";float: left;margin-right: 0.25em;color: #696969;}#sk-container-id-3 label.sk-toggleable__label-arrow:hover:before {color: black;}#sk-container-id-3 div.sk-estimator:hover label.sk-toggleable__label-arrow:before {color: black;}#sk-container-id-3 div.sk-toggleable__content {max-height: 0;max-width: 0;overflow: hidden;text-align: left;background-color: #f0f8ff;}#sk-container-id-3 div.sk-toggleable__content pre {margin: 0.2em;color: black;border-radius: 0.25em;background-color: #f0f8ff;}#sk-container-id-3 input.sk-toggleable__control:checked~div.sk-toggleable__content {max-height: 200px;max-width: 100%;overflow: auto;}#sk-container-id-3 input.sk-toggleable__control:checked~label.sk-toggleable__label-arrow:before {content: \"▾\";}#sk-container-id-3 div.sk-estimator input.sk-toggleable__control:checked~label.sk-toggleable__label {background-color: #d4ebff;}#sk-container-id-3 div.sk-label input.sk-toggleable__control:checked~label.sk-toggleable__label {background-color: #d4ebff;}#sk-container-id-3 input.sk-hidden--visually {border: 0;clip: rect(1px 1px 1px 1px);clip: rect(1px, 1px, 1px, 1px);height: 1px;margin: -1px;overflow: hidden;padding: 0;position: absolute;width: 1px;}#sk-container-id-3 div.sk-estimator {font-family: monospace;background-color: #f0f8ff;border: 1px dotted black;border-radius: 0.25em;box-sizing: border-box;margin-bottom: 0.5em;}#sk-container-id-3 div.sk-estimator:hover {background-color: #d4ebff;}#sk-container-id-3 div.sk-parallel-item::after {content: \"\";width: 100%;border-bottom: 1px solid gray;flex-grow: 1;}#sk-container-id-3 div.sk-label:hover label.sk-toggleable__label {background-color: #d4ebff;}#sk-container-id-3 div.sk-serial::before {content: \"\";position: absolute;border-left: 1px solid gray;box-sizing: border-box;top: 0;bottom: 0;left: 50%;z-index: 0;}#sk-container-id-3 div.sk-serial {display: flex;flex-direction: column;align-items: center;background-color: white;padding-right: 0.2em;padding-left: 0.2em;position: relative;}#sk-container-id-3 div.sk-item {position: relative;z-index: 1;}#sk-container-id-3 div.sk-parallel {display: flex;align-items: stretch;justify-content: center;background-color: white;position: relative;}#sk-container-id-3 div.sk-item::before, #sk-container-id-3 div.sk-parallel-item::before {content: \"\";position: absolute;border-left: 1px solid gray;box-sizing: border-box;top: 0;bottom: 0;left: 50%;z-index: -1;}#sk-container-id-3 div.sk-parallel-item {display: flex;flex-direction: column;z-index: 1;position: relative;background-color: white;}#sk-container-id-3 div.sk-parallel-item:first-child::after {align-self: flex-end;width: 50%;}#sk-container-id-3 div.sk-parallel-item:last-child::after {align-self: flex-start;width: 50%;}#sk-container-id-3 div.sk-parallel-item:only-child::after {width: 0;}#sk-container-id-3 div.sk-dashed-wrapped {border: 1px dashed gray;margin: 0 0.4em 0.5em 0.4em;box-sizing: border-box;padding-bottom: 0.4em;background-color: white;}#sk-container-id-3 div.sk-label label {font-family: monospace;font-weight: bold;display: inline-block;line-height: 1.2em;}#sk-container-id-3 div.sk-label-container {text-align: center;}#sk-container-id-3 div.sk-container {/* jupyter's `normalize.less` sets `[hidden] { display: none; }` but bootstrap.min.css set `[hidden] { display: none !important; }` so we also need the `!important` here to be able to override the default hidden behavior on the sphinx rendered scikit-learn.org. See: https://github.com/scikit-learn/scikit-learn/issues/21755 */display: inline-block !important;position: relative;}#sk-container-id-3 div.sk-text-repr-fallback {display: none;}</style><div id=\"sk-container-id-3\" class=\"sk-top-container\"><div class=\"sk-text-repr-fallback\"><pre>RandomForestClassifier()</pre><b>In a Jupyter environment, please rerun this cell to show the HTML representation or trust the notebook. <br />On GitHub, the HTML representation is unable to render, please try loading this page with nbviewer.org.</b></div><div class=\"sk-container\" hidden><div class=\"sk-item\"><div class=\"sk-estimator sk-toggleable\"><input class=\"sk-toggleable__control sk-hidden--visually\" id=\"sk-estimator-id-3\" type=\"checkbox\" checked><label for=\"sk-estimator-id-3\" class=\"sk-toggleable__label sk-toggleable__label-arrow\">RandomForestClassifier</label><div class=\"sk-toggleable__content\"><pre>RandomForestClassifier()</pre></div></div></div></div></div>"
      ],
      "text/plain": [
       "RandomForestClassifier()"
      ]
     },
     "execution_count": 63,
     "metadata": {},
     "output_type": "execute_result"
    }
   ],
   "source": [
    "rfc.fit(x_train_ct_mm, y_train)"
   ]
  },
  {
   "cell_type": "code",
   "execution_count": 64,
   "id": "ef6b5f5d",
   "metadata": {},
   "outputs": [],
   "source": [
    "pred_rfc = rfc.predict(x_test_ct_mm)"
   ]
  },
  {
   "cell_type": "code",
   "execution_count": 65,
   "id": "4412e3cc",
   "metadata": {},
   "outputs": [],
   "source": [
    "score_rfc = accuracy_score(y_test, pred_rfc)"
   ]
  },
  {
   "cell_type": "code",
   "execution_count": 66,
   "id": "4102a069",
   "metadata": {},
   "outputs": [
    {
     "data": {
      "text/plain": [
       "1.0"
      ]
     },
     "execution_count": 66,
     "metadata": {},
     "output_type": "execute_result"
    }
   ],
   "source": [
    "score_rfc"
   ]
  },
  {
   "cell_type": "code",
   "execution_count": 67,
   "id": "40e34ec5",
   "metadata": {},
   "outputs": [],
   "source": [
    "score_rfc_new = precision_score(y_test, pred_rfc)"
   ]
  },
  {
   "cell_type": "code",
   "execution_count": 68,
   "id": "fbfb03b4",
   "metadata": {},
   "outputs": [
    {
     "data": {
      "text/plain": [
       "1.0"
      ]
     },
     "execution_count": 68,
     "metadata": {},
     "output_type": "execute_result"
    }
   ],
   "source": [
    "score_rfc_new"
   ]
  },
  {
   "cell_type": "code",
   "execution_count": 69,
   "id": "e9963511",
   "metadata": {},
   "outputs": [],
   "source": [
    "cm_rfc = confusion_matrix(y_test, pred_rfc)"
   ]
  },
  {
   "cell_type": "code",
   "execution_count": 70,
   "id": "b7523351",
   "metadata": {},
   "outputs": [
    {
     "data": {
      "text/plain": [
       "<Axes: >"
      ]
     },
     "execution_count": 70,
     "metadata": {},
     "output_type": "execute_result"
    },
    {
     "data": {
      "image/png": "[encoded data removed]",
      "text/plain": [
       "<Figure size 640x480 with 2 Axes>"
      ]
     },
     "metadata": {},
     "output_type": "display_data"
    }
   ],
   "source": [
    "sns.heatmap(cm_rfc)"
   ]
  },
  {
   "cell_type": "markdown",
   "id": "34a6b321",
   "metadata": {},
   "source": [
    "### D. Perceptron"
   ]
  },
  {
   "cell_type": "code",
   "execution_count": 71,
   "id": "d9569cb3",
   "metadata": {},
   "outputs": [],
   "source": [
    "perc = Perceptron()"
   ]
  },
  {
   "cell_type": "code",
   "execution_count": 72,
   "id": "ba85533c",
   "metadata": {},
   "outputs": [
    {
     "data": {
      "text/html": [
       "<style>#sk-container-id-4 {color: black;}#sk-container-id-4 pre{padding: 0;}#sk-container-id-4 div.sk-toggleable {background-color: white;}#sk-container-id-4 label.sk-toggleable__label {cursor: pointer;display: block;width: 100%;margin-bottom: 0;padding: 0.3em;box-sizing: border-box;text-align: center;}#sk-container-id-4 label.sk-toggleable__label-arrow:before {content: \"▸\";float: left;margin-right: 0.25em;color: #696969;}#sk-container-id-4 label.sk-toggleable__label-arrow:hover:before {color: black;}#sk-container-id-4 div.sk-estimator:hover label.sk-toggleable__label-arrow:before {color: black;}#sk-container-id-4 div.sk-toggleable__content {max-height: 0;max-width: 0;overflow: hidden;text-align: left;background-color: #f0f8ff;}#sk-container-id-4 div.sk-toggleable__content pre {margin: 0.2em;color: black;border-radius: 0.25em;background-color: #f0f8ff;}#sk-container-id-4 input.sk-toggleable__control:checked~div.sk-toggleable__content {max-height: 200px;max-width: 100%;overflow: auto;}#sk-container-id-4 input.sk-toggleable__control:checked~label.sk-toggleable__label-arrow:before {content: \"▾\";}#sk-container-id-4 div.sk-estimator input.sk-toggleable__control:checked~label.sk-toggleable__label {background-color: #d4ebff;}#sk-container-id-4 div.sk-label input.sk-toggleable__control:checked~label.sk-toggleable__label {background-color: #d4ebff;}#sk-container-id-4 input.sk-hidden--visually {border: 0;clip: rect(1px 1px 1px 1px);clip: rect(1px, 1px, 1px, 1px);height: 1px;margin: -1px;overflow: hidden;padding: 0;position: absolute;width: 1px;}#sk-container-id-4 div.sk-estimator {font-family: monospace;background-color: #f0f8ff;border: 1px dotted black;border-radius: 0.25em;box-sizing: border-box;margin-bottom: 0.5em;}#sk-container-id-4 div.sk-estimator:hover {background-color: #d4ebff;}#sk-container-id-4 div.sk-parallel-item::after {content: \"\";width: 100%;border-bottom: 1px solid gray;flex-grow: 1;}#sk-container-id-4 div.sk-label:hover label.sk-toggleable__label {background-color: #d4ebff;}#sk-container-id-4 div.sk-serial::before {content: \"\";position: absolute;border-left: 1px solid gray;box-sizing: border-box;top: 0;bottom: 0;left: 50%;z-index: 0;}#sk-container-id-4 div.sk-serial {display: flex;flex-direction: column;align-items: center;background-color: white;padding-right: 0.2em;padding-left: 0.2em;position: relative;}#sk-container-id-4 div.sk-item {position: relative;z-index: 1;}#sk-container-id-4 div.sk-parallel {display: flex;align-items: stretch;justify-content: center;background-color: white;position: relative;}#sk-container-id-4 div.sk-item::before, #sk-container-id-4 div.sk-parallel-item::before {content: \"\";position: absolute;border-left: 1px solid gray;box-sizing: border-box;top: 0;bottom: 0;left: 50%;z-index: -1;}#sk-container-id-4 div.sk-parallel-item {display: flex;flex-direction: column;z-index: 1;position: relative;background-color: white;}#sk-container-id-4 div.sk-parallel-item:first-child::after {align-self: flex-end;width: 50%;}#sk-container-id-4 div.sk-parallel-item:last-child::after {align-self: flex-start;width: 50%;}#sk-container-id-4 div.sk-parallel-item:only-child::after {width: 0;}#sk-container-id-4 div.sk-dashed-wrapped {border: 1px dashed gray;margin: 0 0.4em 0.5em 0.4em;box-sizing: border-box;padding-bottom: 0.4em;background-color: white;}#sk-container-id-4 div.sk-label label {font-family: monospace;font-weight: bold;display: inline-block;line-height: 1.2em;}#sk-container-id-4 div.sk-label-container {text-align: center;}#sk-container-id-4 div.sk-container {/* jupyter's `normalize.less` sets `[hidden] { display: none; }` but bootstrap.min.css set `[hidden] { display: none !important; }` so we also need the `!important` here to be able to override the default hidden behavior on the sphinx rendered scikit-learn.org. See: https://github.com/scikit-learn/scikit-learn/issues/21755 */display: inline-block !important;position: relative;}#sk-container-id-4 div.sk-text-repr-fallback {display: none;}</style><div id=\"sk-container-id-4\" class=\"sk-top-container\"><div class=\"sk-text-repr-fallback\"><pre>Perceptron()</pre><b>In a Jupyter environment, please rerun this cell to show the HTML representation or trust the notebook. <br />On GitHub, the HTML representation is unable to render, please try loading this page with nbviewer.org.</b></div><div class=\"sk-container\" hidden><div class=\"sk-item\"><div class=\"sk-estimator sk-toggleable\"><input class=\"sk-toggleable__control sk-hidden--visually\" id=\"sk-estimator-id-4\" type=\"checkbox\" checked><label for=\"sk-estimator-id-4\" class=\"sk-toggleable__label sk-toggleable__label-arrow\">Perceptron</label><div class=\"sk-toggleable__content\"><pre>Perceptron()</pre></div></div></div></div></div>"
      ],
      "text/plain": [
       "Perceptron()"
      ]
     },
     "execution_count": 72,
     "metadata": {},
     "output_type": "execute_result"
    }
   ],
   "source": [
    "perc.fit(x_train_ct_mm, y_train)"
   ]
  },
  {
   "cell_type": "code",
   "execution_count": 73,
   "id": "24038beb",
   "metadata": {},
   "outputs": [],
   "source": [
    "pred_per = perc.predict(x_test_ct_mm)"
   ]
  },
  {
   "cell_type": "code",
   "execution_count": 74,
   "id": "ba3955e1",
   "metadata": {},
   "outputs": [],
   "source": [
    "score_perc = accuracy_score(y_test, pred_per)"
   ]
  },
  {
   "cell_type": "code",
   "execution_count": 75,
   "id": "c9aea899",
   "metadata": {},
   "outputs": [
    {
     "data": {
      "text/plain": [
       "1.0"
      ]
     },
     "execution_count": 75,
     "metadata": {},
     "output_type": "execute_result"
    }
   ],
   "source": [
    "score_perc"
   ]
  },
  {
   "cell_type": "code",
   "execution_count": 76,
   "id": "ad824837",
   "metadata": {},
   "outputs": [],
   "source": [
    "cm_perc = confusion_matrix(y_test, pred_per)"
   ]
  },
  {
   "cell_type": "code",
   "execution_count": 77,
   "id": "5e1f98f0",
   "metadata": {},
   "outputs": [
    {
     "data": {
      "text/plain": [
       "<Axes: >"
      ]
     },
     "execution_count": 77,
     "metadata": {},
     "output_type": "execute_result"
    },
    {
     "data": {
      "image/png": "[encoded data removed]",
      "text/plain": [
       "<Figure size 640x480 with 2 Axes>"
      ]
     },
     "metadata": {},
     "output_type": "display_data"
    }
   ],
   "source": [
    "sns.heatmap(cm_perc)"
   ]
  },
  {
   "cell_type": "markdown",
   "id": "8fce9d7e",
   "metadata": {},
   "source": [
    "### E. KNN"
   ]
  },
  {
   "cell_type": "code",
   "execution_count": 78,
   "id": "f479f983",
   "metadata": {},
   "outputs": [],
   "source": [
    "kn = KNeighborsClassifier()"
   ]
  },
  {
   "cell_type": "code",
   "execution_count": 79,
   "id": "460a1f7c",
   "metadata": {},
   "outputs": [
    {
     "data": {
      "text/html": [
       "<style>#sk-container-id-5 {color: black;}#sk-container-id-5 pre{padding: 0;}#sk-container-id-5 div.sk-toggleable {background-color: white;}#sk-container-id-5 label.sk-toggleable__label {cursor: pointer;display: block;width: 100%;margin-bottom: 0;padding: 0.3em;box-sizing: border-box;text-align: center;}#sk-container-id-5 label.sk-toggleable__label-arrow:before {content: \"▸\";float: left;margin-right: 0.25em;color: #696969;}#sk-container-id-5 label.sk-toggleable__label-arrow:hover:before {color: black;}#sk-container-id-5 div.sk-estimator:hover label.sk-toggleable__label-arrow:before {color: black;}#sk-container-id-5 div.sk-toggleable__content {max-height: 0;max-width: 0;overflow: hidden;text-align: left;background-color: #f0f8ff;}#sk-container-id-5 div.sk-toggleable__content pre {margin: 0.2em;color: black;border-radius: 0.25em;background-color: #f0f8ff;}#sk-container-id-5 input.sk-toggleable__control:checked~div.sk-toggleable__content {max-height: 200px;max-width: 100%;overflow: auto;}#sk-container-id-5 input.sk-toggleable__control:checked~label.sk-toggleable__label-arrow:before {content: \"▾\";}#sk-container-id-5 div.sk-estimator input.sk-toggleable__control:checked~label.sk-toggleable__label {background-color: #d4ebff;}#sk-container-id-5 div.sk-label input.sk-toggleable__control:checked~label.sk-toggleable__label {background-color: #d4ebff;}#sk-container-id-5 input.sk-hidden--visually {border: 0;clip: rect(1px 1px 1px 1px);clip: rect(1px, 1px, 1px, 1px);height: 1px;margin: -1px;overflow: hidden;padding: 0;position: absolute;width: 1px;}#sk-container-id-5 div.sk-estimator {font-family: monospace;background-color: #f0f8ff;border: 1px dotted black;border-radius: 0.25em;box-sizing: border-box;margin-bottom: 0.5em;}#sk-container-id-5 div.sk-estimator:hover {background-color: #d4ebff;}#sk-container-id-5 div.sk-parallel-item::after {content: \"\";width: 100%;border-bottom: 1px solid gray;flex-grow: 1;}#sk-container-id-5 div.sk-label:hover label.sk-toggleable__label {background-color: #d4ebff;}#sk-container-id-5 div.sk-serial::before {content: \"\";position: absolute;border-left: 1px solid gray;box-sizing: border-box;top: 0;bottom: 0;left: 50%;z-index: 0;}#sk-container-id-5 div.sk-serial {display: flex;flex-direction: column;align-items: center;background-color: white;padding-right: 0.2em;padding-left: 0.2em;position: relative;}#sk-container-id-5 div.sk-item {position: relative;z-index: 1;}#sk-container-id-5 div.sk-parallel {display: flex;align-items: stretch;justify-content: center;background-color: white;position: relative;}#sk-container-id-5 div.sk-item::before, #sk-container-id-5 div.sk-parallel-item::before {content: \"\";position: absolute;border-left: 1px solid gray;box-sizing: border-box;top: 0;bottom: 0;left: 50%;z-index: -1;}#sk-container-id-5 div.sk-parallel-item {display: flex;flex-direction: column;z-index: 1;position: relative;background-color: white;}#sk-container-id-5 div.sk-parallel-item:first-child::after {align-self: flex-end;width: 50%;}#sk-container-id-5 div.sk-parallel-item:last-child::after {align-self: flex-start;width: 50%;}#sk-container-id-5 div.sk-parallel-item:only-child::after {width: 0;}#sk-container-id-5 div.sk-dashed-wrapped {border: 1px dashed gray;margin: 0 0.4em 0.5em 0.4em;box-sizing: border-box;padding-bottom: 0.4em;background-color: white;}#sk-container-id-5 div.sk-label label {font-family: monospace;font-weight: bold;display: inline-block;line-height: 1.2em;}#sk-container-id-5 div.sk-label-container {text-align: center;}#sk-container-id-5 div.sk-container {/* jupyter's `normalize.less` sets `[hidden] { display: none; }` but bootstrap.min.css set `[hidden] { display: none !important; }` so we also need the `!important` here to be able to override the default hidden behavior on the sphinx rendered scikit-learn.org. See: https://github.com/scikit-learn/scikit-learn/issues/21755 */display: inline-block !important;position: relative;}#sk-container-id-5 div.sk-text-repr-fallback {display: none;}</style><div id=\"sk-container-id-5\" class=\"sk-top-container\"><div class=\"sk-text-repr-fallback\"><pre>KNeighborsClassifier()</pre><b>In a Jupyter environment, please rerun this cell to show the HTML representation or trust the notebook. <br />On GitHub, the HTML representation is unable to render, please try loading this page with nbviewer.org.</b></div><div class=\"sk-container\" hidden><div class=\"sk-item\"><div class=\"sk-estimator sk-toggleable\"><input class=\"sk-toggleable__control sk-hidden--visually\" id=\"sk-estimator-id-5\" type=\"checkbox\" checked><label for=\"sk-estimator-id-5\" class=\"sk-toggleable__label sk-toggleable__label-arrow\">KNeighborsClassifier</label><div class=\"sk-toggleable__content\"><pre>KNeighborsClassifier()</pre></div></div></div></div></div>"
      ],
      "text/plain": [
       "KNeighborsClassifier()"
      ]
     },
     "execution_count": 79,
     "metadata": {},
     "output_type": "execute_result"
    }
   ],
   "source": [
    "kn.fit(x_train_ct_mm, y_train)"
   ]
  },
  {
   "cell_type": "code",
   "execution_count": 80,
   "id": "83d5df75",
   "metadata": {},
   "outputs": [],
   "source": [
    "pred_kn = kn.predict(x_test_ct_mm)"
   ]
  },
  {
   "cell_type": "code",
   "execution_count": 81,
   "id": "0448d84f",
   "metadata": {},
   "outputs": [],
   "source": [
    "score_kn = accuracy_score(y_test, pred_kn)"
   ]
  },
  {
   "cell_type": "code",
   "execution_count": 82,
   "id": "916d5f7e",
   "metadata": {},
   "outputs": [
    {
     "data": {
      "text/plain": [
       "1.0"
      ]
     },
     "execution_count": 82,
     "metadata": {},
     "output_type": "execute_result"
    }
   ],
   "source": [
    "score_kn"
   ]
  },
  {
   "cell_type": "code",
   "execution_count": 83,
   "id": "6df45c6c",
   "metadata": {},
   "outputs": [],
   "source": [
    "cm_kn = confusion_matrix(y_test, pred_kn)"
   ]
  },
  {
   "cell_type": "code",
   "execution_count": 84,
   "id": "ca32b724",
   "metadata": {},
   "outputs": [
    {
     "data": {
      "text/plain": [
       "<Axes: >"
      ]
     },
     "execution_count": 84,
     "metadata": {},
     "output_type": "execute_result"
    },
    {
     "data": {
      "image/png": "[encoded data removed]",
      "text/plain": [
       "<Figure size 640x480 with 2 Axes>"
      ]
     },
     "metadata": {},
     "output_type": "display_data"
    }
   ],
   "source": [
    "sns.heatmap(cm_kn)"
   ]
  },
  {
   "cell_type": "markdown",
   "id": "29140843",
   "metadata": {},
   "source": [
    "# Thanking you all"
   ]
  }
 ],
 "metadata": {
  "kernelspec": {
   "display_name": "Python 3 (ipykernel)",
   "language": "python",
   "name": "python3"
  },
  "language_info": {
   "codemirror_mode": {
    "name": "ipython",
    "version": 3
   },
   "file_extension": ".py",
   "mimetype": "text/x-python",
   "name": "python",
   "nbconvert_exporter": "python",
   "pygments_lexer": "ipython3",
   "version": "3.11.4"
  }
 },
 "nbformat": 4,
 "nbformat_minor": 5
}
